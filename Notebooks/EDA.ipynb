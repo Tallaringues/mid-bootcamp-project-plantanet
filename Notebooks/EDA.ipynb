{
 "cells": [
  {
   "attachments": {},
   "cell_type": "markdown",
   "metadata": {},
   "source": [
    "# Exploratory Data Analysis (EDA)"
   ]
  },
  {
   "cell_type": "code",
   "execution_count": 1,
   "metadata": {},
   "outputs": [],
   "source": [
    "import numpy as np\n",
    "import pandas as pd"
   ]
  },
  {
   "attachments": {},
   "cell_type": "markdown",
   "metadata": {},
   "source": [
    "## Load data"
   ]
  },
  {
   "cell_type": "code",
   "execution_count": 4,
   "metadata": {},
   "outputs": [
    {
     "data": {
      "text/plain": [
       "(150000, 26)"
      ]
     },
     "metadata": {},
     "output_type": "display_data"
    },
    {
     "data": {
      "text/html": [
       "<div>\n",
       "<style scoped>\n",
       "    .dataframe tbody tr th:only-of-type {\n",
       "        vertical-align: middle;\n",
       "    }\n",
       "\n",
       "    .dataframe tbody tr th {\n",
       "        vertical-align: top;\n",
       "    }\n",
       "\n",
       "    .dataframe thead th {\n",
       "        text-align: right;\n",
       "    }\n",
       "</style>\n",
       "<table border=\"1\" class=\"dataframe\">\n",
       "  <thead>\n",
       "    <tr style=\"text-align: right;\">\n",
       "      <th></th>\n",
       "      <th>gbifid</th>\n",
       "      <th>datasetkey</th>\n",
       "      <th>occurrenceid</th>\n",
       "      <th>kingdom</th>\n",
       "      <th>phylum</th>\n",
       "      <th>class</th>\n",
       "      <th>order</th>\n",
       "      <th>family</th>\n",
       "      <th>genus</th>\n",
       "      <th>species</th>\n",
       "      <th>...</th>\n",
       "      <th>decimallatitude</th>\n",
       "      <th>decimallongitude</th>\n",
       "      <th>eventdate</th>\n",
       "      <th>day</th>\n",
       "      <th>month</th>\n",
       "      <th>year</th>\n",
       "      <th>taxonkey</th>\n",
       "      <th>license</th>\n",
       "      <th>lastinterpreted</th>\n",
       "      <th>issue</th>\n",
       "    </tr>\n",
       "  </thead>\n",
       "  <tbody>\n",
       "    <tr>\n",
       "      <th>0</th>\n",
       "      <td>3956314347</td>\n",
       "      <td>14d5676a-2c54-4f94-9023-1e8dcd822aa0</td>\n",
       "      <td>q-10050789731</td>\n",
       "      <td>Plantae</td>\n",
       "      <td>Tracheophyta</td>\n",
       "      <td>Magnoliopsida</td>\n",
       "      <td>Lamiales</td>\n",
       "      <td>Plantaginaceae</td>\n",
       "      <td>Cymbalaria</td>\n",
       "      <td>Cymbalaria muralis</td>\n",
       "      <td>...</td>\n",
       "      <td>39.737365</td>\n",
       "      <td>-0.828874</td>\n",
       "      <td>2016-05-28 11:32:01.482</td>\n",
       "      <td>28</td>\n",
       "      <td>5</td>\n",
       "      <td>2016</td>\n",
       "      <td>8200663</td>\n",
       "      <td>CC_BY_4_0</td>\n",
       "      <td>2023-02-08T17:06:19.959Z</td>\n",
       "      <td>COORDINATE_ROUNDED;COUNTRY_DERIVED_FROM_COORDI...</td>\n",
       "    </tr>\n",
       "    <tr>\n",
       "      <th>1</th>\n",
       "      <td>3952045610</td>\n",
       "      <td>14d5676a-2c54-4f94-9023-1e8dcd822aa0</td>\n",
       "      <td>q-10103707122</td>\n",
       "      <td>Plantae</td>\n",
       "      <td>Tracheophyta</td>\n",
       "      <td>Magnoliopsida</td>\n",
       "      <td>Sapindales</td>\n",
       "      <td>Anacardiaceae</td>\n",
       "      <td>Pistacia</td>\n",
       "      <td>Pistacia lentiscus</td>\n",
       "      <td>...</td>\n",
       "      <td>43.068620</td>\n",
       "      <td>5.817762</td>\n",
       "      <td>2019-08-18 12:02:28.413</td>\n",
       "      <td>18</td>\n",
       "      <td>8</td>\n",
       "      <td>2019</td>\n",
       "      <td>3190583</td>\n",
       "      <td>CC_BY_4_0</td>\n",
       "      <td>2023-02-08T17:30:41.400Z</td>\n",
       "      <td>COORDINATE_ROUNDED;COUNTRY_DERIVED_FROM_COORDI...</td>\n",
       "    </tr>\n",
       "    <tr>\n",
       "      <th>2</th>\n",
       "      <td>3999022620</td>\n",
       "      <td>14d5676a-2c54-4f94-9023-1e8dcd822aa0</td>\n",
       "      <td>q-10593121245</td>\n",
       "      <td>Plantae</td>\n",
       "      <td>Tracheophyta</td>\n",
       "      <td>Liliopsida</td>\n",
       "      <td>Asparagales</td>\n",
       "      <td>Orchidaceae</td>\n",
       "      <td>Anacamptis</td>\n",
       "      <td>Anacamptis pyramidalis</td>\n",
       "      <td>...</td>\n",
       "      <td>45.852500</td>\n",
       "      <td>-0.155000</td>\n",
       "      <td>2022-05-20 21:10:09.158</td>\n",
       "      <td>20</td>\n",
       "      <td>5</td>\n",
       "      <td>2022</td>\n",
       "      <td>2808330</td>\n",
       "      <td>CC_BY_4_0</td>\n",
       "      <td>2023-02-08T17:39:19.787Z</td>\n",
       "      <td>COUNTRY_DERIVED_FROM_COORDINATES;CONTINENT_DER...</td>\n",
       "    </tr>\n",
       "    <tr>\n",
       "      <th>3</th>\n",
       "      <td>3951723097</td>\n",
       "      <td>14d5676a-2c54-4f94-9023-1e8dcd822aa0</td>\n",
       "      <td>q-10067365606</td>\n",
       "      <td>Plantae</td>\n",
       "      <td>Tracheophyta</td>\n",
       "      <td>Magnoliopsida</td>\n",
       "      <td>Boraginales</td>\n",
       "      <td>Boraginaceae</td>\n",
       "      <td>Cynoglossum</td>\n",
       "      <td>Cynoglossum creticum</td>\n",
       "      <td>...</td>\n",
       "      <td>43.151389</td>\n",
       "      <td>5.736667</td>\n",
       "      <td>2019-04-14 10:50:38.537</td>\n",
       "      <td>14</td>\n",
       "      <td>4</td>\n",
       "      <td>2019</td>\n",
       "      <td>4064467</td>\n",
       "      <td>CC_BY_4_0</td>\n",
       "      <td>2023-02-08T17:29:23.909Z</td>\n",
       "      <td>COORDINATE_ROUNDED;COUNTRY_DERIVED_FROM_COORDI...</td>\n",
       "    </tr>\n",
       "    <tr>\n",
       "      <th>4</th>\n",
       "      <td>3952394627</td>\n",
       "      <td>14d5676a-2c54-4f94-9023-1e8dcd822aa0</td>\n",
       "      <td>q-10536959012</td>\n",
       "      <td>Plantae</td>\n",
       "      <td>Tracheophyta</td>\n",
       "      <td>Magnoliopsida</td>\n",
       "      <td>Lamiales</td>\n",
       "      <td>Orobanchaceae</td>\n",
       "      <td>Lathraea</td>\n",
       "      <td>Lathraea squamaria</td>\n",
       "      <td>...</td>\n",
       "      <td>48.079440</td>\n",
       "      <td>7.587583</td>\n",
       "      <td>2022-03-14 14:36:23.989</td>\n",
       "      <td>14</td>\n",
       "      <td>3</td>\n",
       "      <td>2022</td>\n",
       "      <td>3738478</td>\n",
       "      <td>CC_BY_4_0</td>\n",
       "      <td>2023-02-08T17:38:06.790Z</td>\n",
       "      <td>COORDINATE_ROUNDED;COUNTRY_DERIVED_FROM_COORDI...</td>\n",
       "    </tr>\n",
       "  </tbody>\n",
       "</table>\n",
       "<p>5 rows × 26 columns</p>\n",
       "</div>"
      ],
      "text/plain": [
       "       gbifid                            datasetkey   occurrenceid  kingdom   \n",
       "0  3956314347  14d5676a-2c54-4f94-9023-1e8dcd822aa0  q-10050789731  Plantae  \\\n",
       "1  3952045610  14d5676a-2c54-4f94-9023-1e8dcd822aa0  q-10103707122  Plantae   \n",
       "2  3999022620  14d5676a-2c54-4f94-9023-1e8dcd822aa0  q-10593121245  Plantae   \n",
       "3  3951723097  14d5676a-2c54-4f94-9023-1e8dcd822aa0  q-10067365606  Plantae   \n",
       "4  3952394627  14d5676a-2c54-4f94-9023-1e8dcd822aa0  q-10536959012  Plantae   \n",
       "\n",
       "         phylum          class        order          family        genus   \n",
       "0  Tracheophyta  Magnoliopsida     Lamiales  Plantaginaceae   Cymbalaria  \\\n",
       "1  Tracheophyta  Magnoliopsida   Sapindales   Anacardiaceae     Pistacia   \n",
       "2  Tracheophyta     Liliopsida  Asparagales     Orchidaceae   Anacamptis   \n",
       "3  Tracheophyta  Magnoliopsida  Boraginales    Boraginaceae  Cynoglossum   \n",
       "4  Tracheophyta  Magnoliopsida     Lamiales   Orobanchaceae     Lathraea   \n",
       "\n",
       "                  species  ... decimallatitude decimallongitude   \n",
       "0      Cymbalaria muralis  ...       39.737365        -0.828874  \\\n",
       "1      Pistacia lentiscus  ...       43.068620         5.817762   \n",
       "2  Anacamptis pyramidalis  ...       45.852500        -0.155000   \n",
       "3    Cynoglossum creticum  ...       43.151389         5.736667   \n",
       "4      Lathraea squamaria  ...       48.079440         7.587583   \n",
       "\n",
       "                 eventdate day  month  year  taxonkey    license   \n",
       "0  2016-05-28 11:32:01.482  28      5  2016   8200663  CC_BY_4_0  \\\n",
       "1  2019-08-18 12:02:28.413  18      8  2019   3190583  CC_BY_4_0   \n",
       "2  2022-05-20 21:10:09.158  20      5  2022   2808330  CC_BY_4_0   \n",
       "3  2019-04-14 10:50:38.537  14      4  2019   4064467  CC_BY_4_0   \n",
       "4  2022-03-14 14:36:23.989  14      3  2022   3738478  CC_BY_4_0   \n",
       "\n",
       "            lastinterpreted                                              issue  \n",
       "0  2023-02-08T17:06:19.959Z  COORDINATE_ROUNDED;COUNTRY_DERIVED_FROM_COORDI...  \n",
       "1  2023-02-08T17:30:41.400Z  COORDINATE_ROUNDED;COUNTRY_DERIVED_FROM_COORDI...  \n",
       "2  2023-02-08T17:39:19.787Z  COUNTRY_DERIVED_FROM_COORDINATES;CONTINENT_DER...  \n",
       "3  2023-02-08T17:29:23.909Z  COORDINATE_ROUNDED;COUNTRY_DERIVED_FROM_COORDI...  \n",
       "4  2023-02-08T17:38:06.790Z  COORDINATE_ROUNDED;COUNTRY_DERIVED_FROM_COORDI...  \n",
       "\n",
       "[5 rows x 26 columns]"
      ]
     },
     "execution_count": 4,
     "metadata": {},
     "output_type": "execute_result"
    }
   ],
   "source": [
    "plant = pd.read_csv('../Data/clean/plantanet_clean.csv', sep='\\t')\n",
    "display(plant.shape)\n",
    "plant.head()"
   ]
  },
  {
   "cell_type": "code",
   "execution_count": 3,
   "metadata": {},
   "outputs": [
    {
     "data": {
      "text/plain": [
       "gbifid                              0.0\n",
       "datasetkey                          0.0\n",
       "occurrenceid                        0.0\n",
       "kingdom                             0.0\n",
       "phylum                              0.0\n",
       "class                               0.0\n",
       "order                               0.0\n",
       "family                              0.0\n",
       "genus                               0.0\n",
       "species                             0.0\n",
       "scientificname                      0.0\n",
       "verbatimscientificname              0.0\n",
       "verbatimscientificnameauthorship    0.0\n",
       "countrycode                         0.0\n",
       "individualcount                     0.0\n",
       "publishingorgkey                    0.0\n",
       "decimallatitude                     0.0\n",
       "decimallongitude                    0.0\n",
       "eventdate                           0.0\n",
       "day                                 0.0\n",
       "month                               0.0\n",
       "year                                0.0\n",
       "taxonkey                            0.0\n",
       "license                             0.0\n",
       "lastinterpreted                     0.0\n",
       "issue                               0.0\n",
       "dtype: float64"
      ]
     },
     "execution_count": 3,
     "metadata": {},
     "output_type": "execute_result"
    }
   ],
   "source": [
    "plant.isnull().sum()/len(plant) # double-check that there are no missing values"
   ]
  },
  {
   "attachments": {},
   "cell_type": "markdown",
   "metadata": {},
   "source": [
    "## Split numerical-categorial"
   ]
  },
  {
   "cell_type": "code",
   "execution_count": null,
   "metadata": {},
   "outputs": [],
   "source": [
    "def var_types_split (df):\n",
    "    numerical = df.select_dtypes(np.number)\n",
    "    categorical = df.select_dtypes('object')\n",
    "    return numerical, categorical\n",
    "\n",
    "numerical_df, categorical_df = var_types_split(customer_df)"
   ]
  },
  {
   "cell_type": "code",
   "execution_count": null,
   "metadata": {},
   "outputs": [],
   "source": []
  },
  {
   "cell_type": "code",
   "execution_count": null,
   "metadata": {},
   "outputs": [],
   "source": [
    "import seaborn as sns\n",
    "import matplotlib.pyplot as plt\n",
    "%matplotlib inline"
   ]
  },
  {
   "attachments": {},
   "cell_type": "markdown",
   "metadata": {},
   "source": [
    "## Numerical"
   ]
  },
  {
   "cell_type": "code",
   "execution_count": null,
   "metadata": {},
   "outputs": [],
   "source": []
  },
  {
   "cell_type": "code",
   "execution_count": null,
   "metadata": {},
   "outputs": [],
   "source": [
    "# Correlation matrix\n",
    "corr_matrix=numerical_df.corr() # default: Pearson\n",
    "fig, ax = plt.subplots(figsize=(10, 8))\n",
    "ax = sns.heatmap(corr_matrix, annot=True)\n",
    "plt.show()"
   ]
  },
  {
   "attachments": {},
   "cell_type": "markdown",
   "metadata": {},
   "source": [
    "Discrete-continuous"
   ]
  },
  {
   "cell_type": "code",
   "execution_count": null,
   "metadata": {},
   "outputs": [],
   "source": [
    "def numerical_split(df, cat=36):\n",
    "    num_continuous_df = pd.DataFrame()\n",
    "    num_discrete_df = pd.DataFrame()\n",
    "\n",
    "    for col in df.columns:\n",
    "        if df[col].nunique() > cat:\n",
    "            num_continuous_df[col] = df[col]\n",
    "\n",
    "        else:\n",
    "            num_discrete_df[col] = df[col]\n",
    "\n",
    "    return num_continuous_df, num_discrete_df\n",
    "\n",
    "continuous_df, discrete_df = numerical_split(numerical_df)"
   ]
  },
  {
   "attachments": {},
   "cell_type": "markdown",
   "metadata": {},
   "source": [
    "### Plot"
   ]
  },
  {
   "cell_type": "code",
   "execution_count": null,
   "metadata": {},
   "outputs": [],
   "source": [
    "# countplot for descrete variables\n",
    "def plot_discrete2(df):\n",
    "    plt.figure(figsize=(16, 16))\n",
    "    num_plots = len(df.columns)\n",
    "    for i, col in enumerate(df.columns):\n",
    "        plt.subplot((num_plots+1)//2, 2, i+1)\n",
    "        sns.countplot(x=col, data=df)\n",
    "    plt.tight_layout()\n",
    "    plt.show()\n",
    "\n",
    "plot_discrete2(discrete_df)    "
   ]
  },
  {
   "cell_type": "code",
   "execution_count": null,
   "metadata": {},
   "outputs": [],
   "source": [
    "# histograms for continuous variables\n",
    "def plot_continuous(df):\n",
    "    plt.figure(figsize=(16, 16))\n",
    "    num_plots = len(df.columns)\n",
    "    for i, col in enumerate(df.columns):\n",
    "        plt.subplot((num_plots+1)//2, 2, i+1)\n",
    "        sns.histplot(x=col, data=df, bins=150)\n",
    "    plt.tight_layout()\n",
    "    plt.show()\n",
    "\n",
    "plot_continuous(continuous_df)    "
   ]
  },
  {
   "attachments": {},
   "cell_type": "markdown",
   "metadata": {},
   "source": [
    "Outliers in numerical continuous variables"
   ]
  },
  {
   "cell_type": "code",
   "execution_count": null,
   "metadata": {},
   "outputs": [],
   "source": [
    "def boxplot_continuous(df):\n",
    "    plt.figure(figsize=(16, 16))\n",
    "    num_plots = len(df.columns)\n",
    "    for i, col in enumerate(df.columns):\n",
    "        plt.subplot((num_plots+1)//2, 2, i+1)\n",
    "        sns.boxplot(y=col, data=df)\n",
    "    plt.tight_layout()\n",
    "    plt.show()\n",
    "\n",
    "boxplot_continuous(continuous_df)    "
   ]
  },
  {
   "attachments": {},
   "cell_type": "markdown",
   "metadata": {},
   "source": [
    "## Categorical"
   ]
  },
  {
   "attachments": {},
   "cell_type": "markdown",
   "metadata": {},
   "source": [
    "### Plots"
   ]
  },
  {
   "cell_type": "code",
   "execution_count": null,
   "metadata": {},
   "outputs": [],
   "source": [
    "def plot_categorical(df, cat=6):\n",
    "    plt.figure(figsize=(16, 24))\n",
    "    num_plots = len(df.columns)\n",
    "    for i, col in enumerate(df.columns):\n",
    "        plt.subplot((num_plots+1)//2, 2, i+1)\n",
    "        if df[col].nunique() < cat:\n",
    "            sns.countplot(x=col, data=df, order=list(df[col].value_counts().index), palette=\"cubehelix\")\n",
    "        else:\n",
    "            sns.countplot(y=col, data=df, order=list(df[col].value_counts().index), palette=\"cubehelix\")   \n",
    "    plt.tight_layout()\n",
    "    plt.show()\n",
    "\n",
    "plot_categorical(categorical_df)    "
   ]
  },
  {
   "attachments": {},
   "cell_type": "markdown",
   "metadata": {},
   "source": [
    "## Temporal analysis"
   ]
  },
  {
   "cell_type": "code",
   "execution_count": null,
   "metadata": {},
   "outputs": [],
   "source": [
    "plt.figure(figsize=(20, 10))\n",
    "sns.lineplot(x= 'effective_to_date', y='total_claim_amount', data=customer_df, ci=None)\n",
    "\n",
    "plt.xticks(rotation=20)\n",
    "plt.show()"
   ]
  }
 ],
 "metadata": {
  "kernelspec": {
   "display_name": "plantanet",
   "language": "python",
   "name": "python3"
  },
  "language_info": {
   "codemirror_mode": {
    "name": "ipython",
    "version": 3
   },
   "file_extension": ".py",
   "mimetype": "text/x-python",
   "name": "python",
   "nbconvert_exporter": "python",
   "pygments_lexer": "ipython3",
   "version": "3.9.13"
  },
  "orig_nbformat": 4
 },
 "nbformat": 4,
 "nbformat_minor": 2
}
