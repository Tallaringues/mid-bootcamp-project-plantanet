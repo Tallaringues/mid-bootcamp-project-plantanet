{
 "cells": [
  {
   "cell_type": "markdown",
   "id": "305daaac-498f-4efc-bb2a-d400c153793b",
   "metadata": {},
   "source": [
    "# Exploratory Data Analysis (EDA) - Part 2\n",
    "- Temporal analysis\n",
    "- Usage patterns\n",
    "- Plant analysis"
   ]
  },
  {
   "cell_type": "code",
   "execution_count": 1,
   "id": "b4e1d7b7-b94e-447a-846e-03ed9b33b668",
   "metadata": {
    "tags": []
   },
   "outputs": [],
   "source": [
    "import numpy as np\n",
    "import pandas as pd"
   ]
  },
  {
   "cell_type": "code",
   "execution_count": 2,
   "id": "2354f0eb-0c28-4671-89ad-31ef779db07a",
   "metadata": {
    "tags": []
   },
   "outputs": [
    {
     "data": {
      "text/plain": [
       "(150000, 18)"
      ]
     },
     "metadata": {},
     "output_type": "display_data"
    },
    {
     "data": {
      "text/plain": [
       "Index(['occurrenceid', 'class', 'order', 'family', 'genus', 'species',\n",
       "       'scientificname', 'countrycode', 'decimallatitude', 'decimallongitude',\n",
       "       'eventdate', 'day', 'month', 'year', 'country', 'incomeperperson',\n",
       "       'internetuserate', 'urbanrate'],\n",
       "      dtype='object')"
      ]
     },
     "metadata": {},
     "output_type": "display_data"
    },
    {
     "data": {
      "text/html": [
       "<div>\n",
       "<style scoped>\n",
       "    .dataframe tbody tr th:only-of-type {\n",
       "        vertical-align: middle;\n",
       "    }\n",
       "\n",
       "    .dataframe tbody tr th {\n",
       "        vertical-align: top;\n",
       "    }\n",
       "\n",
       "    .dataframe thead th {\n",
       "        text-align: right;\n",
       "    }\n",
       "</style>\n",
       "<table border=\"1\" class=\"dataframe\">\n",
       "  <thead>\n",
       "    <tr style=\"text-align: right;\">\n",
       "      <th></th>\n",
       "      <th>occurrenceid</th>\n",
       "      <th>class</th>\n",
       "      <th>order</th>\n",
       "      <th>family</th>\n",
       "      <th>genus</th>\n",
       "      <th>species</th>\n",
       "      <th>scientificname</th>\n",
       "      <th>countrycode</th>\n",
       "      <th>decimallatitude</th>\n",
       "      <th>decimallongitude</th>\n",
       "      <th>eventdate</th>\n",
       "      <th>day</th>\n",
       "      <th>month</th>\n",
       "      <th>year</th>\n",
       "      <th>country</th>\n",
       "      <th>incomeperperson</th>\n",
       "      <th>internetuserate</th>\n",
       "      <th>urbanrate</th>\n",
       "    </tr>\n",
       "  </thead>\n",
       "  <tbody>\n",
       "    <tr>\n",
       "      <th>0</th>\n",
       "      <td>q-10050789731</td>\n",
       "      <td>Magnoliopsida</td>\n",
       "      <td>Lamiales</td>\n",
       "      <td>Plantaginaceae</td>\n",
       "      <td>Cymbalaria</td>\n",
       "      <td>Cymbalaria muralis</td>\n",
       "      <td>Cymbalaria muralis P.Gaertn., B.Mey. &amp; Scherb.</td>\n",
       "      <td>ES</td>\n",
       "      <td>39.737365</td>\n",
       "      <td>-0.828874</td>\n",
       "      <td>2016-05-28 11:32:01.482</td>\n",
       "      <td>28</td>\n",
       "      <td>5</td>\n",
       "      <td>2016</td>\n",
       "      <td>Spain</td>\n",
       "      <td>15461.75837</td>\n",
       "      <td>65.808554</td>\n",
       "      <td>77.12</td>\n",
       "    </tr>\n",
       "    <tr>\n",
       "      <th>1</th>\n",
       "      <td>q-10103707122</td>\n",
       "      <td>Magnoliopsida</td>\n",
       "      <td>Sapindales</td>\n",
       "      <td>Anacardiaceae</td>\n",
       "      <td>Pistacia</td>\n",
       "      <td>Pistacia lentiscus</td>\n",
       "      <td>Pistacia lentiscus L.</td>\n",
       "      <td>FR</td>\n",
       "      <td>43.068620</td>\n",
       "      <td>5.817762</td>\n",
       "      <td>2019-08-18 12:02:28.413</td>\n",
       "      <td>18</td>\n",
       "      <td>8</td>\n",
       "      <td>2019</td>\n",
       "      <td>France</td>\n",
       "      <td>22878.46657</td>\n",
       "      <td>77.498619</td>\n",
       "      <td>77.36</td>\n",
       "    </tr>\n",
       "    <tr>\n",
       "      <th>2</th>\n",
       "      <td>q-10593121245</td>\n",
       "      <td>Liliopsida</td>\n",
       "      <td>Asparagales</td>\n",
       "      <td>Orchidaceae</td>\n",
       "      <td>Anacamptis</td>\n",
       "      <td>Anacamptis pyramidalis</td>\n",
       "      <td>Anacamptis pyramidalis (L.) Rich.</td>\n",
       "      <td>FR</td>\n",
       "      <td>45.852500</td>\n",
       "      <td>-0.155000</td>\n",
       "      <td>2022-05-20 21:10:09.158</td>\n",
       "      <td>20</td>\n",
       "      <td>5</td>\n",
       "      <td>2022</td>\n",
       "      <td>France</td>\n",
       "      <td>22878.46657</td>\n",
       "      <td>77.498619</td>\n",
       "      <td>77.36</td>\n",
       "    </tr>\n",
       "    <tr>\n",
       "      <th>3</th>\n",
       "      <td>q-10067365606</td>\n",
       "      <td>Magnoliopsida</td>\n",
       "      <td>Boraginales</td>\n",
       "      <td>Boraginaceae</td>\n",
       "      <td>Cynoglossum</td>\n",
       "      <td>Cynoglossum creticum</td>\n",
       "      <td>Cynoglossum creticum Mill.</td>\n",
       "      <td>FR</td>\n",
       "      <td>43.151389</td>\n",
       "      <td>5.736667</td>\n",
       "      <td>2019-04-14 10:50:38.537</td>\n",
       "      <td>14</td>\n",
       "      <td>4</td>\n",
       "      <td>2019</td>\n",
       "      <td>France</td>\n",
       "      <td>22878.46657</td>\n",
       "      <td>77.498619</td>\n",
       "      <td>77.36</td>\n",
       "    </tr>\n",
       "    <tr>\n",
       "      <th>4</th>\n",
       "      <td>q-10536959012</td>\n",
       "      <td>Magnoliopsida</td>\n",
       "      <td>Lamiales</td>\n",
       "      <td>Orobanchaceae</td>\n",
       "      <td>Lathraea</td>\n",
       "      <td>Lathraea squamaria</td>\n",
       "      <td>Lathraea squamaria L.</td>\n",
       "      <td>DE</td>\n",
       "      <td>48.079440</td>\n",
       "      <td>7.587583</td>\n",
       "      <td>2022-03-14 14:36:23.989</td>\n",
       "      <td>14</td>\n",
       "      <td>3</td>\n",
       "      <td>2022</td>\n",
       "      <td>Germany</td>\n",
       "      <td>25306.18719</td>\n",
       "      <td>82.526898</td>\n",
       "      <td>73.64</td>\n",
       "    </tr>\n",
       "  </tbody>\n",
       "</table>\n",
       "</div>"
      ],
      "text/plain": [
       "    occurrenceid          class        order          family        genus   \n",
       "0  q-10050789731  Magnoliopsida     Lamiales  Plantaginaceae   Cymbalaria  \\\n",
       "1  q-10103707122  Magnoliopsida   Sapindales   Anacardiaceae     Pistacia   \n",
       "2  q-10593121245     Liliopsida  Asparagales     Orchidaceae   Anacamptis   \n",
       "3  q-10067365606  Magnoliopsida  Boraginales    Boraginaceae  Cynoglossum   \n",
       "4  q-10536959012  Magnoliopsida     Lamiales   Orobanchaceae     Lathraea   \n",
       "\n",
       "                  species                                  scientificname   \n",
       "0      Cymbalaria muralis  Cymbalaria muralis P.Gaertn., B.Mey. & Scherb.  \\\n",
       "1      Pistacia lentiscus                           Pistacia lentiscus L.   \n",
       "2  Anacamptis pyramidalis               Anacamptis pyramidalis (L.) Rich.   \n",
       "3    Cynoglossum creticum                      Cynoglossum creticum Mill.   \n",
       "4      Lathraea squamaria                           Lathraea squamaria L.   \n",
       "\n",
       "  countrycode  decimallatitude  decimallongitude                eventdate   \n",
       "0          ES        39.737365         -0.828874  2016-05-28 11:32:01.482  \\\n",
       "1          FR        43.068620          5.817762  2019-08-18 12:02:28.413   \n",
       "2          FR        45.852500         -0.155000  2022-05-20 21:10:09.158   \n",
       "3          FR        43.151389          5.736667  2019-04-14 10:50:38.537   \n",
       "4          DE        48.079440          7.587583  2022-03-14 14:36:23.989   \n",
       "\n",
       "   day  month  year  country  incomeperperson  internetuserate  urbanrate  \n",
       "0   28      5  2016    Spain      15461.75837        65.808554      77.12  \n",
       "1   18      8  2019   France      22878.46657        77.498619      77.36  \n",
       "2   20      5  2022   France      22878.46657        77.498619      77.36  \n",
       "3   14      4  2019   France      22878.46657        77.498619      77.36  \n",
       "4   14      3  2022  Germany      25306.18719        82.526898      73.64  "
      ]
     },
     "metadata": {},
     "output_type": "display_data"
    },
    {
     "data": {
      "text/plain": [
       "occurrenceid        0.000000\n",
       "class               0.000000\n",
       "order               0.000000\n",
       "family              0.000000\n",
       "genus               0.000000\n",
       "species             0.000000\n",
       "scientificname      0.000000\n",
       "countrycode         0.000000\n",
       "decimallatitude     0.000000\n",
       "decimallongitude    0.000000\n",
       "eventdate           0.000000\n",
       "day                 0.000000\n",
       "month               0.000000\n",
       "year                0.000000\n",
       "country             0.000000\n",
       "incomeperperson     0.004453\n",
       "internetuserate     0.004340\n",
       "urbanrate           0.004020\n",
       "dtype: float64"
      ]
     },
     "execution_count": 2,
     "metadata": {},
     "output_type": "execute_result"
    }
   ],
   "source": [
    "plant_nan = pd.read_csv('../Data/clean/plantanet_internet_gdp_nan.csv', sep=',') # import dataset with missing values to avoid bias in analysis and plotting\n",
    "display(plant_nan.shape)\n",
    "display(plant_nan.columns)\n",
    "display(plant_nan.head())\n",
    "plant_nan.isnull().sum()/len(plant_nan)"
   ]
  },
  {
   "cell_type": "code",
   "execution_count": 5,
   "id": "effbbc94-a89f-4cef-9009-2d1518df8c32",
   "metadata": {
    "tags": []
   },
   "outputs": [
    {
     "data": {
      "text/html": [
       "<div>\n",
       "<style scoped>\n",
       "    .dataframe tbody tr th:only-of-type {\n",
       "        vertical-align: middle;\n",
       "    }\n",
       "\n",
       "    .dataframe tbody tr th {\n",
       "        vertical-align: top;\n",
       "    }\n",
       "\n",
       "    .dataframe thead th {\n",
       "        text-align: right;\n",
       "    }\n",
       "</style>\n",
       "<table border=\"1\" class=\"dataframe\">\n",
       "  <thead>\n",
       "    <tr style=\"text-align: right;\">\n",
       "      <th></th>\n",
       "      <th>count</th>\n",
       "      <th>mean</th>\n",
       "      <th>std</th>\n",
       "      <th>min</th>\n",
       "      <th>25%</th>\n",
       "      <th>50%</th>\n",
       "      <th>75%</th>\n",
       "      <th>max</th>\n",
       "    </tr>\n",
       "  </thead>\n",
       "  <tbody>\n",
       "    <tr>\n",
       "      <th>decimallatitude</th>\n",
       "      <td>150000.0</td>\n",
       "      <td>45.433473</td>\n",
       "      <td>11.069672</td>\n",
       "      <td>-54.807064</td>\n",
       "      <td>43.666867</td>\n",
       "      <td>47.179853</td>\n",
       "      <td>50.259018</td>\n",
       "      <td>71.112304</td>\n",
       "    </tr>\n",
       "    <tr>\n",
       "      <th>decimallongitude</th>\n",
       "      <td>150000.0</td>\n",
       "      <td>-0.343254</td>\n",
       "      <td>30.954318</td>\n",
       "      <td>-176.178948</td>\n",
       "      <td>-0.071390</td>\n",
       "      <td>5.594533</td>\n",
       "      <td>10.274014</td>\n",
       "      <td>176.910963</td>\n",
       "    </tr>\n",
       "    <tr>\n",
       "      <th>day</th>\n",
       "      <td>150000.0</td>\n",
       "      <td>15.827900</td>\n",
       "      <td>8.788527</td>\n",
       "      <td>1.000000</td>\n",
       "      <td>8.000000</td>\n",
       "      <td>16.000000</td>\n",
       "      <td>23.000000</td>\n",
       "      <td>31.000000</td>\n",
       "    </tr>\n",
       "    <tr>\n",
       "      <th>month</th>\n",
       "      <td>150000.0</td>\n",
       "      <td>6.308207</td>\n",
       "      <td>2.181246</td>\n",
       "      <td>1.000000</td>\n",
       "      <td>5.000000</td>\n",
       "      <td>6.000000</td>\n",
       "      <td>8.000000</td>\n",
       "      <td>12.000000</td>\n",
       "    </tr>\n",
       "    <tr>\n",
       "      <th>year</th>\n",
       "      <td>150000.0</td>\n",
       "      <td>2020.582813</td>\n",
       "      <td>1.337024</td>\n",
       "      <td>2010.000000</td>\n",
       "      <td>2020.000000</td>\n",
       "      <td>2021.000000</td>\n",
       "      <td>2022.000000</td>\n",
       "      <td>2022.000000</td>\n",
       "    </tr>\n",
       "    <tr>\n",
       "      <th>incomeperperson</th>\n",
       "      <td>149332.0</td>\n",
       "      <td>22916.161804</td>\n",
       "      <td>8273.012359</td>\n",
       "      <td>103.775857</td>\n",
       "      <td>18982.269290</td>\n",
       "      <td>22878.466570</td>\n",
       "      <td>26551.844240</td>\n",
       "      <td>105147.437700</td>\n",
       "    </tr>\n",
       "    <tr>\n",
       "      <th>internetuserate</th>\n",
       "      <td>149349.0</td>\n",
       "      <td>73.798130</td>\n",
       "      <td>12.589694</td>\n",
       "      <td>0.720009</td>\n",
       "      <td>69.770394</td>\n",
       "      <td>77.498619</td>\n",
       "      <td>82.166660</td>\n",
       "      <td>95.638113</td>\n",
       "    </tr>\n",
       "    <tr>\n",
       "      <th>urbanrate</th>\n",
       "      <td>149397.0</td>\n",
       "      <td>75.912027</td>\n",
       "      <td>8.294944</td>\n",
       "      <td>12.980000</td>\n",
       "      <td>73.500000</td>\n",
       "      <td>77.360000</td>\n",
       "      <td>77.360000</td>\n",
       "      <td>100.000000</td>\n",
       "    </tr>\n",
       "  </tbody>\n",
       "</table>\n",
       "</div>"
      ],
      "text/plain": [
       "                     count          mean          std          min   \n",
       "decimallatitude   150000.0     45.433473    11.069672   -54.807064  \\\n",
       "decimallongitude  150000.0     -0.343254    30.954318  -176.178948   \n",
       "day               150000.0     15.827900     8.788527     1.000000   \n",
       "month             150000.0      6.308207     2.181246     1.000000   \n",
       "year              150000.0   2020.582813     1.337024  2010.000000   \n",
       "incomeperperson   149332.0  22916.161804  8273.012359   103.775857   \n",
       "internetuserate   149349.0     73.798130    12.589694     0.720009   \n",
       "urbanrate         149397.0     75.912027     8.294944    12.980000   \n",
       "\n",
       "                           25%           50%           75%            max  \n",
       "decimallatitude      43.666867     47.179853     50.259018      71.112304  \n",
       "decimallongitude     -0.071390      5.594533     10.274014     176.910963  \n",
       "day                   8.000000     16.000000     23.000000      31.000000  \n",
       "month                 5.000000      6.000000      8.000000      12.000000  \n",
       "year               2020.000000   2021.000000   2022.000000    2022.000000  \n",
       "incomeperperson   18982.269290  22878.466570  26551.844240  105147.437700  \n",
       "internetuserate      69.770394     77.498619     82.166660      95.638113  \n",
       "urbanrate            73.500000     77.360000     77.360000     100.000000  "
      ]
     },
     "execution_count": 5,
     "metadata": {},
     "output_type": "execute_result"
    }
   ],
   "source": [
    "plant_nan.describe().T #verify min and max values of all variables (no zero)"
   ]
  },
  {
   "cell_type": "code",
   "execution_count": null,
   "id": "578dab7e-6065-436c-bff5-bb0a9306e852",
   "metadata": {},
   "outputs": [],
   "source": []
  },
  {
   "cell_type": "code",
   "execution_count": 6,
   "id": "5289849f-d071-4170-9337-081850b13251",
   "metadata": {
    "tags": []
   },
   "outputs": [],
   "source": [
    "# group countries by region\n",
    "africa = ['DZ', 'AO', 'BJ', 'BW', 'BF', 'BI', 'CM', 'CV', 'CF', 'TD', 'KM', 'CG', 'CD', 'CI', 'DJ', 'EG', 'GQ', 'ER', 'ET', 'GA', 'GM', 'GH', 'GN', 'GW', 'KE', 'LS', 'LR', 'LY', 'MG', 'MW', 'ML', 'MR', 'MU', 'YT', 'MA', 'MZ', 'NA', 'NE', 'NG', 'RE', 'RW', 'ST', 'SN', 'SC', 'SL', 'SO', 'ZA', 'SS', 'SD', 'SZ', 'TZ', 'TG', 'TN', 'UG', 'EH', 'ZM', 'ZW']\n",
    "asia = ['AF', 'AM', 'AZ', 'BH', 'BD', 'BT', 'BN', 'KH', 'CN', 'CY', 'GE', 'IN', 'ID', 'IR', 'IQ', 'IL', 'JP', 'JO', 'KZ', 'KW', 'KG', 'LA', 'LB', 'MY', 'MV', 'MN', 'MM', 'NP', 'KP', 'OM', 'PK', 'PS', 'PH', 'QA', 'SA', 'SG', 'KR', 'LK', 'SY', 'TW', 'TJ', 'TH', 'TL', 'TR', 'TM', 'AE', 'UZ', 'VN', 'YE']\n",
    "europe = ['AL', 'AD', 'AT', 'BY', 'BE', 'BA', 'BG', 'HR', 'CY', 'CZ', 'DK', 'EE', 'FO', 'FI', 'FR', 'DE', 'GI', 'GR', 'HU', 'IS', 'IE', 'IM', 'IT', 'XK', 'LV', 'LI', 'LT', 'LU', 'MK', 'MT', 'MD', 'MC', 'ME', 'NL', 'NO', 'PL', 'PT', 'RO', 'RU', 'SM', 'RS', 'SK', 'SI', 'ES', 'SE', 'CH', 'UA', 'GB', 'VA']\n",
    "north_america = ['AG', 'BS', 'BB', 'BZ', 'CA', 'CR', 'CU', 'CW', 'DM', 'DO', 'SV', 'GL', 'GD', 'GT', 'HT', 'HN', 'JM', 'MX', 'MS', 'NI', 'PA', 'PR', 'KN', 'LC', 'VC', 'SX', 'TT', 'TC', 'US', 'VG', 'VI']\n",
    "south_america = ['AR', 'BO', 'BR', 'CL', 'CO', 'EC', 'FK', 'GF', 'GY', 'PY', 'PE', 'SR', 'UY', 'VE']\n",
    "oceania = ['AS', 'AU', 'CK', 'FJ', 'PF', 'GU', 'KI', 'MH', 'FM', 'NR', 'NC', 'NZ', 'NU', 'MP', 'PW', 'PG', 'PN', 'WS', 'SB', 'TK', 'TO', 'TV', 'UM', 'VU', 'WF']\n",
    "\n",
    "def get_region(countrycode):\n",
    "    if countrycode in africa:\n",
    "        return 'Africa'\n",
    "    elif countrycode in asia:\n",
    "        return 'Asia'\n",
    "    elif countrycode in europe:\n",
    "        return 'Europe'\n",
    "    elif countrycode in north_america:\n",
    "        return 'North America'\n",
    "    elif countrycode in south_america:\n",
    "        return 'South America'\n",
    "    elif countrycode in oceania:\n",
    "        return 'Oceania'\n",
    "    else:\n",
    "        return 'unknown'\n",
    "    \n",
    "plant_nan['region'] = plant_nan['countrycode'].apply(get_region)\n",
    "plant_nan.head()"
   ]
  },
  {
   "cell_type": "code",
   "execution_count": null,
   "id": "7be3ed05-a5d3-476a-b6fb-c42600ca4be2",
   "metadata": {},
   "outputs": [],
   "source": [
    "# number of entries per region\n",
    "regional_entries = plant_nan.groupby('region').agg({'occurrenceid':'count'}).rename(columns={'occurrenceid':'total_entries'}).reset_index()\n",
    "regional_entries"
   ]
  },
  {
   "cell_type": "markdown",
   "id": "e91a8bc6-3834-45f5-bc6c-c118bf02f1ca",
   "metadata": {},
   "source": [
    "## Temporal analysis\n",
    "### Annual patterns"
   ]
  },
  {
   "cell_type": "code",
   "execution_count": null,
   "id": "9a91d946-fc8f-4f66-bb51-e0e6c300c0cb",
   "metadata": {},
   "outputs": [],
   "source": [
    "# number of entries per year\n",
    "annual_entries_df = plant_nan.groupby('year').agg({'occurrenceid':'count'}).rename(columns={'occurrenceid':'total_entries'}).reset_index()\n",
    "annual_entries_df"
   ]
  },
  {
   "cell_type": "code",
   "execution_count": null,
   "id": "96780b06-4c94-4ba4-bbb3-64719c0d6d83",
   "metadata": {},
   "outputs": [],
   "source": [
    "sns.countplot(x=col, data=df, order=list(df[col].value_counts().index), palette=\"cubehelix\")"
   ]
  },
  {
   "cell_type": "markdown",
   "id": "ddb48ef7-2ccd-4a96-b095-3bf792a9a5e5",
   "metadata": {},
   "source": [
    "Europe is the country, by far, with higher number of entries. Let's have a more detailes look:"
   ]
  },
  {
   "cell_type": "code",
   "execution_count": null,
   "id": "cf336ce1-c3db-496c-8fa1-d24101b615fd",
   "metadata": {},
   "outputs": [],
   "source": [
    "europe_month = plant_nan[plant_nan['region']== 'Europe']['month']\n",
    "europe_month_df=pd.DataFrame(data=europe_month)\n",
    "plot_discrete2(europe_month_df)"
   ]
  },
  {
   "cell_type": "markdown",
   "id": "3c58b514-4262-4e22-8d6e-4a159dd203e0",
   "metadata": {},
   "source": [
    "Follows the expected pattern related to life-cicle of many plants. Now, let's compare it with a region in the global south:"
   ]
  },
  {
   "cell_type": "code",
   "execution_count": null,
   "id": "d772871f-44fc-4d78-af70-dbe074e7370b",
   "metadata": {},
   "outputs": [],
   "source": [
    "southam_month = plant_nan[plant_nan['region'] == 'South America']['month']\n",
    "southam_month_df=pd.DataFrame(data=southam_month)\n",
    "plot_discrete2(southam_month_df)"
   ]
  },
  {
   "cell_type": "markdown",
   "id": "5e03239d-bb09-4175-a4dd-aba02b8e695c",
   "metadata": {},
   "source": [
    "Patterns are connected to the seasons in different parts of the world. This information is important for future campaigns to increase the numbers of users (need to adapt according to region)"
   ]
  },
  {
   "cell_type": "markdown",
   "id": "a59c2d13-cf5c-42e0-a5bd-8d356cfbe0ec",
   "metadata": {},
   "source": [
    "### Weekly patterns"
   ]
  },
  {
   "cell_type": "code",
   "execution_count": null,
   "id": "a649f157-d151-4c1a-ba26-409c1b2a1285",
   "metadata": {},
   "outputs": [],
   "source": [
    "# Extract the name of the day of the week from the date to look for users' patterns\n",
    "plant_nan['eventdate'] = pd.to_datetime(plant_nan['eventdate'])\n",
    "plant_nan['day_week']=plant_nan['eventdate'].dt.day_name()\n",
    "plant_nan.head()"
   ]
  },
  {
   "cell_type": "code",
   "execution_count": null,
   "id": "1b9e366b-9e71-4a4b-b649-6cf8d0910063",
   "metadata": {},
   "outputs": [],
   "source": [
    "# visualize the overall number of entries per day of the week\n",
    "order = ['Monday', 'Tuesday', 'Wednesday', 'Thursday', 'Friday', 'Saturday', 'Sunday']\n",
    "fig, ax = plt.subplots(figsize=(10, 5))\n",
    "sns.countplot(x='day_week', data=plant_nan, palette = \"cubehelix\", order=order, ax=ax)\n",
    "# Set label for x-axis\n",
    "ax.set_xlabel( \"Day fo the Week\" , size = 12 )\n",
    "  \n",
    "# Set label for y-axis\n",
    "ax.set_ylabel( \"Total Entries in Plant@net app\" , size = 12 )\n",
    "plt.show()"
   ]
  },
  {
   "cell_type": "markdown",
   "id": "56603037-f17d-4489-bc58-3e71447167d0",
   "metadata": {},
   "source": [
    "## Regional analysis\n",
    "Although some regional patterns have already been shown"
   ]
  },
  {
   "cell_type": "code",
   "execution_count": null,
   "id": "4d1260f5-57ca-4d47-b20a-231dfa2ad0fe",
   "metadata": {},
   "outputs": [],
   "source": [
    "# Internet user rate and entries in the app by region and country\n",
    "country_users_internet = plant_nan.pivot_table(index=['country', 'region'], values=['internetuserate', 'occurrenceid'], \n",
    "                                               aggfunc = {'internetuserate':'mean','occurrenceid':'count'}).rename(columns={'occurrenceid':'total_entries'}).reset_index()\n",
    "\n",
    "country_users_internet"
   ]
  },
  {
   "cell_type": "code",
   "execution_count": null,
   "id": "bb485e77-43df-45b5-b9cd-2026927855eb",
   "metadata": {},
   "outputs": [],
   "source": [
    "#fig, ax = plt.subplots(figsize=(10, 5))\n",
    "sns.lmplot(x='internetuserate', y='total_entries', data=country_users_internet,\n",
    "           fit_reg=False, # No regression line\n",
    "           hue='region')\n",
    "plt.show()"
   ]
  },
  {
   "cell_type": "raw",
   "id": "8d74b815-8e1a-4f10-a993-e7dc56210801",
   "metadata": {},
   "source": [
    "Due to the big different in app entries between regions, it is better to split the information in different plots"
   ]
  },
  {
   "cell_type": "code",
   "execution_count": null,
   "id": "41374314-6811-4642-9d1a-5b1d01f9ff16",
   "metadata": {},
   "outputs": [],
   "source": [
    "# the function differeciates between Europe + North America and the other regions\n",
    "def plot_entries_internet(df):\n",
    "    fig, axs = plt.subplots(ncols=2, figsize=(12, 6))\n",
    "\n",
    "    # plot for Europe and North America\n",
    "    europe_na_df = df[df['region'].isin(['Europe', 'North America'])]\n",
    "    sns.scatterplot(data=europe_na_df, x='internetuserate', y='total_entries', hue='region', ax=axs[0])\n",
    "\n",
    "    # plot for all other regions\n",
    "    other_df = df[~df['region'].isin(['Europe', 'North America'])]\n",
    "    sns.scatterplot(data=other_df, x='internetuserate', y='total_entries', hue='region', ax=axs[1])\n",
    "\n",
    "    # set the axis labels and titles\n",
    "    axs[0].set_xlabel('Internet User Rate')\n",
    "    axs[0].set_ylabel('Total Entries')\n",
    "    axs[0].set_title('Europe and North America')\n",
    "\n",
    "    axs[1].set_xlabel('Internet User Rate')\n",
    "    axs[1].set_ylabel('Total Entries')\n",
    "    axs[1].set_title('All Other Regions')\n",
    "\n",
    "    plt.show()\n",
    "    \n",
    "plot_entries_internet(country_users_internet) # test this plot in Tableau    "
   ]
  },
  {
   "cell_type": "markdown",
   "id": "703cb688-8e8e-49bc-8247-c4e8ea93a599",
   "metadata": {},
   "source": [
    "## Plant analysis\n"
   ]
  },
  {
   "cell_type": "code",
   "execution_count": null,
   "id": "0d9f68db-233a-4d1a-afe7-b2508f7a19d9",
   "metadata": {},
   "outputs": [],
   "source": []
  }
 ],
 "metadata": {
  "kernelspec": {
   "display_name": "plantanet",
   "language": "python",
   "name": "plantanet"
  },
  "language_info": {
   "codemirror_mode": {
    "name": "ipython",
    "version": 3
   },
   "file_extension": ".py",
   "mimetype": "text/x-python",
   "name": "python",
   "nbconvert_exporter": "python",
   "pygments_lexer": "ipython3",
   "version": "3.9.13"
  }
 },
 "nbformat": 4,
 "nbformat_minor": 5
}
