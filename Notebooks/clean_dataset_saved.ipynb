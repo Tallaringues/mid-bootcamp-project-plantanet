{
 "cells": [
  {
   "cell_type": "markdown",
   "metadata": {},
   "source": [
    "# Plant dataset\n",
    "Information"
   ]
  },
  {
   "cell_type": "markdown",
   "metadata": {},
   "source": [
    "# Clean dataset"
   ]
  },
  {
   "cell_type": "code",
   "execution_count": 20,
   "metadata": {
    "tags": []
   },
   "outputs": [],
   "source": [
    "import numpy as np\n",
    "import pandas as pd"
   ]
  },
  {
   "cell_type": "markdown",
   "metadata": {},
   "source": [
    "## Load data"
   ]
  },
  {
   "cell_type": "code",
   "execution_count": 21,
   "metadata": {
    "tags": []
   },
   "outputs": [
    {
     "data": {
      "text/plain": [
       "(150000, 51)"
      ]
     },
     "metadata": {},
     "output_type": "display_data"
    },
    {
     "data": {
      "text/html": [
       "<div>\n",
       "<style scoped>\n",
       "    .dataframe tbody tr th:only-of-type {\n",
       "        vertical-align: middle;\n",
       "    }\n",
       "\n",
       "    .dataframe tbody tr th {\n",
       "        vertical-align: top;\n",
       "    }\n",
       "\n",
       "    .dataframe thead th {\n",
       "        text-align: right;\n",
       "    }\n",
       "</style>\n",
       "<table border=\"1\" class=\"dataframe\">\n",
       "  <thead>\n",
       "    <tr style=\"text-align: right;\">\n",
       "      <th></th>\n",
       "      <th>Unnamed: 0</th>\n",
       "      <th>gbifID</th>\n",
       "      <th>datasetKey</th>\n",
       "      <th>occurrenceID</th>\n",
       "      <th>kingdom</th>\n",
       "      <th>phylum</th>\n",
       "      <th>class</th>\n",
       "      <th>order</th>\n",
       "      <th>family</th>\n",
       "      <th>genus</th>\n",
       "      <th>...</th>\n",
       "      <th>identifiedBy</th>\n",
       "      <th>dateIdentified</th>\n",
       "      <th>license</th>\n",
       "      <th>rightsHolder</th>\n",
       "      <th>recordedBy</th>\n",
       "      <th>typeStatus</th>\n",
       "      <th>establishmentMeans</th>\n",
       "      <th>lastInterpreted</th>\n",
       "      <th>mediaType</th>\n",
       "      <th>issue</th>\n",
       "    </tr>\n",
       "  </thead>\n",
       "  <tbody>\n",
       "    <tr>\n",
       "      <th>0</th>\n",
       "      <td>6913275</td>\n",
       "      <td>3956314347</td>\n",
       "      <td>14d5676a-2c54-4f94-9023-1e8dcd822aa0</td>\n",
       "      <td>q-10050789731</td>\n",
       "      <td>Plantae</td>\n",
       "      <td>Tracheophyta</td>\n",
       "      <td>Magnoliopsida</td>\n",
       "      <td>Lamiales</td>\n",
       "      <td>Plantaginaceae</td>\n",
       "      <td>Cymbalaria</td>\n",
       "      <td>...</td>\n",
       "      <td>NaN</td>\n",
       "      <td>NaN</td>\n",
       "      <td>CC_BY_4_0</td>\n",
       "      <td>NaN</td>\n",
       "      <td>NaN</td>\n",
       "      <td>NaN</td>\n",
       "      <td>NaN</td>\n",
       "      <td>2023-02-08T17:06:19.959Z</td>\n",
       "      <td>NaN</td>\n",
       "      <td>COORDINATE_ROUNDED;COUNTRY_DERIVED_FROM_COORDI...</td>\n",
       "    </tr>\n",
       "    <tr>\n",
       "      <th>1</th>\n",
       "      <td>11131049</td>\n",
       "      <td>3952045610</td>\n",
       "      <td>14d5676a-2c54-4f94-9023-1e8dcd822aa0</td>\n",
       "      <td>q-10103707122</td>\n",
       "      <td>Plantae</td>\n",
       "      <td>Tracheophyta</td>\n",
       "      <td>Magnoliopsida</td>\n",
       "      <td>Sapindales</td>\n",
       "      <td>Anacardiaceae</td>\n",
       "      <td>Pistacia</td>\n",
       "      <td>...</td>\n",
       "      <td>NaN</td>\n",
       "      <td>NaN</td>\n",
       "      <td>CC_BY_4_0</td>\n",
       "      <td>NaN</td>\n",
       "      <td>NaN</td>\n",
       "      <td>NaN</td>\n",
       "      <td>NaN</td>\n",
       "      <td>2023-02-08T17:30:41.400Z</td>\n",
       "      <td>NaN</td>\n",
       "      <td>COORDINATE_ROUNDED;COUNTRY_DERIVED_FROM_COORDI...</td>\n",
       "    </tr>\n",
       "    <tr>\n",
       "      <th>2</th>\n",
       "      <td>6797613</td>\n",
       "      <td>3999022620</td>\n",
       "      <td>14d5676a-2c54-4f94-9023-1e8dcd822aa0</td>\n",
       "      <td>q-10593121245</td>\n",
       "      <td>Plantae</td>\n",
       "      <td>Tracheophyta</td>\n",
       "      <td>Liliopsida</td>\n",
       "      <td>Asparagales</td>\n",
       "      <td>Orchidaceae</td>\n",
       "      <td>Anacamptis</td>\n",
       "      <td>...</td>\n",
       "      <td>NaN</td>\n",
       "      <td>NaN</td>\n",
       "      <td>CC_BY_4_0</td>\n",
       "      <td>NaN</td>\n",
       "      <td>NaN</td>\n",
       "      <td>NaN</td>\n",
       "      <td>NaN</td>\n",
       "      <td>2023-02-08T17:39:19.787Z</td>\n",
       "      <td>NaN</td>\n",
       "      <td>COUNTRY_DERIVED_FROM_COORDINATES;CONTINENT_DER...</td>\n",
       "    </tr>\n",
       "    <tr>\n",
       "      <th>3</th>\n",
       "      <td>9056894</td>\n",
       "      <td>3951723097</td>\n",
       "      <td>14d5676a-2c54-4f94-9023-1e8dcd822aa0</td>\n",
       "      <td>q-10067365606</td>\n",
       "      <td>Plantae</td>\n",
       "      <td>Tracheophyta</td>\n",
       "      <td>Magnoliopsida</td>\n",
       "      <td>Boraginales</td>\n",
       "      <td>Boraginaceae</td>\n",
       "      <td>Cynoglossum</td>\n",
       "      <td>...</td>\n",
       "      <td>NaN</td>\n",
       "      <td>NaN</td>\n",
       "      <td>CC_BY_4_0</td>\n",
       "      <td>NaN</td>\n",
       "      <td>NaN</td>\n",
       "      <td>NaN</td>\n",
       "      <td>NaN</td>\n",
       "      <td>2023-02-08T17:29:23.909Z</td>\n",
       "      <td>NaN</td>\n",
       "      <td>COORDINATE_ROUNDED;COUNTRY_DERIVED_FROM_COORDI...</td>\n",
       "    </tr>\n",
       "    <tr>\n",
       "      <th>4</th>\n",
       "      <td>4757360</td>\n",
       "      <td>3952394627</td>\n",
       "      <td>14d5676a-2c54-4f94-9023-1e8dcd822aa0</td>\n",
       "      <td>q-10536959012</td>\n",
       "      <td>Plantae</td>\n",
       "      <td>Tracheophyta</td>\n",
       "      <td>Magnoliopsida</td>\n",
       "      <td>Lamiales</td>\n",
       "      <td>Orobanchaceae</td>\n",
       "      <td>Lathraea</td>\n",
       "      <td>...</td>\n",
       "      <td>NaN</td>\n",
       "      <td>NaN</td>\n",
       "      <td>CC_BY_4_0</td>\n",
       "      <td>NaN</td>\n",
       "      <td>NaN</td>\n",
       "      <td>NaN</td>\n",
       "      <td>NaN</td>\n",
       "      <td>2023-02-08T17:38:06.790Z</td>\n",
       "      <td>NaN</td>\n",
       "      <td>COORDINATE_ROUNDED;COUNTRY_DERIVED_FROM_COORDI...</td>\n",
       "    </tr>\n",
       "  </tbody>\n",
       "</table>\n",
       "<p>5 rows × 51 columns</p>\n",
       "</div>"
      ],
      "text/plain": [
       "   Unnamed: 0      gbifID                            datasetKey   \n",
       "0     6913275  3956314347  14d5676a-2c54-4f94-9023-1e8dcd822aa0  \\\n",
       "1    11131049  3952045610  14d5676a-2c54-4f94-9023-1e8dcd822aa0   \n",
       "2     6797613  3999022620  14d5676a-2c54-4f94-9023-1e8dcd822aa0   \n",
       "3     9056894  3951723097  14d5676a-2c54-4f94-9023-1e8dcd822aa0   \n",
       "4     4757360  3952394627  14d5676a-2c54-4f94-9023-1e8dcd822aa0   \n",
       "\n",
       "    occurrenceID  kingdom        phylum          class        order   \n",
       "0  q-10050789731  Plantae  Tracheophyta  Magnoliopsida     Lamiales  \\\n",
       "1  q-10103707122  Plantae  Tracheophyta  Magnoliopsida   Sapindales   \n",
       "2  q-10593121245  Plantae  Tracheophyta     Liliopsida  Asparagales   \n",
       "3  q-10067365606  Plantae  Tracheophyta  Magnoliopsida  Boraginales   \n",
       "4  q-10536959012  Plantae  Tracheophyta  Magnoliopsida     Lamiales   \n",
       "\n",
       "           family        genus  ... identifiedBy  dateIdentified    license   \n",
       "0  Plantaginaceae   Cymbalaria  ...          NaN             NaN  CC_BY_4_0  \\\n",
       "1   Anacardiaceae     Pistacia  ...          NaN             NaN  CC_BY_4_0   \n",
       "2     Orchidaceae   Anacamptis  ...          NaN             NaN  CC_BY_4_0   \n",
       "3    Boraginaceae  Cynoglossum  ...          NaN             NaN  CC_BY_4_0   \n",
       "4   Orobanchaceae     Lathraea  ...          NaN             NaN  CC_BY_4_0   \n",
       "\n",
       "  rightsHolder recordedBy typeStatus establishmentMeans   \n",
       "0          NaN        NaN        NaN                NaN  \\\n",
       "1          NaN        NaN        NaN                NaN   \n",
       "2          NaN        NaN        NaN                NaN   \n",
       "3          NaN        NaN        NaN                NaN   \n",
       "4          NaN        NaN        NaN                NaN   \n",
       "\n",
       "            lastInterpreted  mediaType   \n",
       "0  2023-02-08T17:06:19.959Z        NaN  \\\n",
       "1  2023-02-08T17:30:41.400Z        NaN   \n",
       "2  2023-02-08T17:39:19.787Z        NaN   \n",
       "3  2023-02-08T17:29:23.909Z        NaN   \n",
       "4  2023-02-08T17:38:06.790Z        NaN   \n",
       "\n",
       "                                               issue  \n",
       "0  COORDINATE_ROUNDED;COUNTRY_DERIVED_FROM_COORDI...  \n",
       "1  COORDINATE_ROUNDED;COUNTRY_DERIVED_FROM_COORDI...  \n",
       "2  COUNTRY_DERIVED_FROM_COORDINATES;CONTINENT_DER...  \n",
       "3  COORDINATE_ROUNDED;COUNTRY_DERIVED_FROM_COORDI...  \n",
       "4  COORDINATE_ROUNDED;COUNTRY_DERIVED_FROM_COORDI...  \n",
       "\n",
       "[5 rows x 51 columns]"
      ]
     },
     "execution_count": 21,
     "metadata": {},
     "output_type": "execute_result"
    }
   ],
   "source": [
    "plant = pd.read_csv('../Data/raw/plantanet_subsample15.csv', sep='\\t')\n",
    "display(plant.shape)\n",
    "plant.head()"
   ]
  },
  {
   "cell_type": "markdown",
   "metadata": {},
   "source": [
    "Explore data"
   ]
  },
  {
   "cell_type": "code",
   "execution_count": 22,
   "metadata": {
    "tags": []
   },
   "outputs": [
    {
     "data": {
      "text/plain": [
       "Unnamed: 0                            int64\n",
       "gbifID                                int64\n",
       "datasetKey                           object\n",
       "occurrenceID                         object\n",
       "kingdom                              object\n",
       "phylum                               object\n",
       "class                                object\n",
       "order                                object\n",
       "family                               object\n",
       "genus                                object\n",
       "species                              object\n",
       "infraspecificEpithet                float64\n",
       "taxonRank                            object\n",
       "scientificName                       object\n",
       "verbatimScientificName               object\n",
       "verbatimScientificNameAuthorship     object\n",
       "countryCode                          object\n",
       "locality                            float64\n",
       "stateProvince                       float64\n",
       "occurrenceStatus                     object\n",
       "individualCount                       int64\n",
       "publishingOrgKey                     object\n",
       "decimalLatitude                     float64\n",
       "decimalLongitude                    float64\n",
       "coordinateUncertaintyInMeters       float64\n",
       "coordinatePrecision                 float64\n",
       "elevation                           float64\n",
       "elevationAccuracy                   float64\n",
       "depth                               float64\n",
       "depthAccuracy                       float64\n",
       "eventDate                            object\n",
       "day                                   int64\n",
       "month                                 int64\n",
       "year                                  int64\n",
       "taxonKey                              int64\n",
       "speciesKey                          float64\n",
       "basisOfRecord                        object\n",
       "institutionCode                     float64\n",
       "collectionCode                      float64\n",
       "catalogNumber                       float64\n",
       "recordNumber                        float64\n",
       "identifiedBy                        float64\n",
       "dateIdentified                      float64\n",
       "license                              object\n",
       "rightsHolder                        float64\n",
       "recordedBy                          float64\n",
       "typeStatus                          float64\n",
       "establishmentMeans                  float64\n",
       "lastInterpreted                      object\n",
       "mediaType                           float64\n",
       "issue                                object\n",
       "dtype: object"
      ]
     },
     "execution_count": 22,
     "metadata": {},
     "output_type": "execute_result"
    }
   ],
   "source": [
    "plant.dtypes"
   ]
  },
  {
   "cell_type": "code",
   "execution_count": 23,
   "metadata": {
    "tags": []
   },
   "outputs": [
    {
     "data": {
      "text/plain": [
       "Unnamed: 0                          0.000000\n",
       "gbifID                              0.000000\n",
       "datasetKey                          0.000000\n",
       "occurrenceID                        0.000000\n",
       "kingdom                             0.000000\n",
       "phylum                              0.000000\n",
       "class                               0.000000\n",
       "order                               0.000000\n",
       "family                              0.000000\n",
       "genus                               0.000027\n",
       "species                             0.000027\n",
       "infraspecificEpithet                1.000000\n",
       "taxonRank                           0.000000\n",
       "scientificName                      0.000000\n",
       "verbatimScientificName              0.000000\n",
       "verbatimScientificNameAuthorship    0.000000\n",
       "countryCode                         0.000027\n",
       "locality                            1.000000\n",
       "stateProvince                       1.000000\n",
       "occurrenceStatus                    0.000000\n",
       "individualCount                     0.000000\n",
       "publishingOrgKey                    0.000000\n",
       "decimalLatitude                     0.000000\n",
       "decimalLongitude                    0.000000\n",
       "coordinateUncertaintyInMeters       0.288507\n",
       "coordinatePrecision                 1.000000\n",
       "elevation                           0.180520\n",
       "elevationAccuracy                   0.180520\n",
       "depth                               1.000000\n",
       "depthAccuracy                       1.000000\n",
       "eventDate                           0.000000\n",
       "day                                 0.000000\n",
       "month                               0.000000\n",
       "year                                0.000000\n",
       "taxonKey                            0.000000\n",
       "speciesKey                          0.000027\n",
       "basisOfRecord                       0.000000\n",
       "institutionCode                     1.000000\n",
       "collectionCode                      1.000000\n",
       "catalogNumber                       1.000000\n",
       "recordNumber                        1.000000\n",
       "identifiedBy                        1.000000\n",
       "dateIdentified                      1.000000\n",
       "license                             0.000000\n",
       "rightsHolder                        1.000000\n",
       "recordedBy                          1.000000\n",
       "typeStatus                          1.000000\n",
       "establishmentMeans                  1.000000\n",
       "lastInterpreted                     0.000000\n",
       "mediaType                           1.000000\n",
       "issue                               0.000000\n",
       "dtype: float64"
      ]
     },
     "execution_count": 23,
     "metadata": {},
     "output_type": "execute_result"
    }
   ],
   "source": [
    "plant.isnull().sum()/len(plant) # check for missing values"
   ]
  },
  {
   "cell_type": "markdown",
   "metadata": {},
   "source": [
    "## Clean and standardize dataset"
   ]
  },
  {
   "cell_type": "markdown",
   "metadata": {},
   "source": [
    "Standirdize columns\n",
    "- names to lowercase\n",
    "- remove \"unnamed:_0\" column\n",
    "- correct format of dates so it can be transformed\n",
    "- transform date columns to datetime format"
   ]
  },
  {
   "cell_type": "code",
   "execution_count": 24,
   "metadata": {},
   "outputs": [
    {
     "data": {
      "text/html": [
       "<div>\n",
       "<style scoped>\n",
       "    .dataframe tbody tr th:only-of-type {\n",
       "        vertical-align: middle;\n",
       "    }\n",
       "\n",
       "    .dataframe tbody tr th {\n",
       "        vertical-align: top;\n",
       "    }\n",
       "\n",
       "    .dataframe thead th {\n",
       "        text-align: right;\n",
       "    }\n",
       "</style>\n",
       "<table border=\"1\" class=\"dataframe\">\n",
       "  <thead>\n",
       "    <tr style=\"text-align: right;\">\n",
       "      <th></th>\n",
       "      <th>gbifid</th>\n",
       "      <th>datasetkey</th>\n",
       "      <th>occurrenceid</th>\n",
       "      <th>kingdom</th>\n",
       "      <th>phylum</th>\n",
       "      <th>class</th>\n",
       "      <th>order</th>\n",
       "      <th>family</th>\n",
       "      <th>genus</th>\n",
       "      <th>species</th>\n",
       "      <th>...</th>\n",
       "      <th>identifiedby</th>\n",
       "      <th>dateidentified</th>\n",
       "      <th>license</th>\n",
       "      <th>rightsholder</th>\n",
       "      <th>recordedby</th>\n",
       "      <th>typestatus</th>\n",
       "      <th>establishmentmeans</th>\n",
       "      <th>lastinterpreted</th>\n",
       "      <th>mediatype</th>\n",
       "      <th>issue</th>\n",
       "    </tr>\n",
       "  </thead>\n",
       "  <tbody>\n",
       "    <tr>\n",
       "      <th>0</th>\n",
       "      <td>3956314347</td>\n",
       "      <td>14d5676a-2c54-4f94-9023-1e8dcd822aa0</td>\n",
       "      <td>q-10050789731</td>\n",
       "      <td>Plantae</td>\n",
       "      <td>Tracheophyta</td>\n",
       "      <td>Magnoliopsida</td>\n",
       "      <td>Lamiales</td>\n",
       "      <td>Plantaginaceae</td>\n",
       "      <td>Cymbalaria</td>\n",
       "      <td>Cymbalaria muralis</td>\n",
       "      <td>...</td>\n",
       "      <td>NaN</td>\n",
       "      <td>NaT</td>\n",
       "      <td>CC_BY_4_0</td>\n",
       "      <td>NaN</td>\n",
       "      <td>NaN</td>\n",
       "      <td>NaN</td>\n",
       "      <td>NaN</td>\n",
       "      <td>2023-02-08T17:06:19.959Z</td>\n",
       "      <td>NaN</td>\n",
       "      <td>COORDINATE_ROUNDED;COUNTRY_DERIVED_FROM_COORDI...</td>\n",
       "    </tr>\n",
       "    <tr>\n",
       "      <th>1</th>\n",
       "      <td>3952045610</td>\n",
       "      <td>14d5676a-2c54-4f94-9023-1e8dcd822aa0</td>\n",
       "      <td>q-10103707122</td>\n",
       "      <td>Plantae</td>\n",
       "      <td>Tracheophyta</td>\n",
       "      <td>Magnoliopsida</td>\n",
       "      <td>Sapindales</td>\n",
       "      <td>Anacardiaceae</td>\n",
       "      <td>Pistacia</td>\n",
       "      <td>Pistacia lentiscus</td>\n",
       "      <td>...</td>\n",
       "      <td>NaN</td>\n",
       "      <td>NaT</td>\n",
       "      <td>CC_BY_4_0</td>\n",
       "      <td>NaN</td>\n",
       "      <td>NaN</td>\n",
       "      <td>NaN</td>\n",
       "      <td>NaN</td>\n",
       "      <td>2023-02-08T17:30:41.400Z</td>\n",
       "      <td>NaN</td>\n",
       "      <td>COORDINATE_ROUNDED;COUNTRY_DERIVED_FROM_COORDI...</td>\n",
       "    </tr>\n",
       "    <tr>\n",
       "      <th>2</th>\n",
       "      <td>3999022620</td>\n",
       "      <td>14d5676a-2c54-4f94-9023-1e8dcd822aa0</td>\n",
       "      <td>q-10593121245</td>\n",
       "      <td>Plantae</td>\n",
       "      <td>Tracheophyta</td>\n",
       "      <td>Liliopsida</td>\n",
       "      <td>Asparagales</td>\n",
       "      <td>Orchidaceae</td>\n",
       "      <td>Anacamptis</td>\n",
       "      <td>Anacamptis pyramidalis</td>\n",
       "      <td>...</td>\n",
       "      <td>NaN</td>\n",
       "      <td>NaT</td>\n",
       "      <td>CC_BY_4_0</td>\n",
       "      <td>NaN</td>\n",
       "      <td>NaN</td>\n",
       "      <td>NaN</td>\n",
       "      <td>NaN</td>\n",
       "      <td>2023-02-08T17:39:19.787Z</td>\n",
       "      <td>NaN</td>\n",
       "      <td>COUNTRY_DERIVED_FROM_COORDINATES;CONTINENT_DER...</td>\n",
       "    </tr>\n",
       "    <tr>\n",
       "      <th>3</th>\n",
       "      <td>3951723097</td>\n",
       "      <td>14d5676a-2c54-4f94-9023-1e8dcd822aa0</td>\n",
       "      <td>q-10067365606</td>\n",
       "      <td>Plantae</td>\n",
       "      <td>Tracheophyta</td>\n",
       "      <td>Magnoliopsida</td>\n",
       "      <td>Boraginales</td>\n",
       "      <td>Boraginaceae</td>\n",
       "      <td>Cynoglossum</td>\n",
       "      <td>Cynoglossum creticum</td>\n",
       "      <td>...</td>\n",
       "      <td>NaN</td>\n",
       "      <td>NaT</td>\n",
       "      <td>CC_BY_4_0</td>\n",
       "      <td>NaN</td>\n",
       "      <td>NaN</td>\n",
       "      <td>NaN</td>\n",
       "      <td>NaN</td>\n",
       "      <td>2023-02-08T17:29:23.909Z</td>\n",
       "      <td>NaN</td>\n",
       "      <td>COORDINATE_ROUNDED;COUNTRY_DERIVED_FROM_COORDI...</td>\n",
       "    </tr>\n",
       "    <tr>\n",
       "      <th>4</th>\n",
       "      <td>3952394627</td>\n",
       "      <td>14d5676a-2c54-4f94-9023-1e8dcd822aa0</td>\n",
       "      <td>q-10536959012</td>\n",
       "      <td>Plantae</td>\n",
       "      <td>Tracheophyta</td>\n",
       "      <td>Magnoliopsida</td>\n",
       "      <td>Lamiales</td>\n",
       "      <td>Orobanchaceae</td>\n",
       "      <td>Lathraea</td>\n",
       "      <td>Lathraea squamaria</td>\n",
       "      <td>...</td>\n",
       "      <td>NaN</td>\n",
       "      <td>NaT</td>\n",
       "      <td>CC_BY_4_0</td>\n",
       "      <td>NaN</td>\n",
       "      <td>NaN</td>\n",
       "      <td>NaN</td>\n",
       "      <td>NaN</td>\n",
       "      <td>2023-02-08T17:38:06.790Z</td>\n",
       "      <td>NaN</td>\n",
       "      <td>COORDINATE_ROUNDED;COUNTRY_DERIVED_FROM_COORDI...</td>\n",
       "    </tr>\n",
       "  </tbody>\n",
       "</table>\n",
       "<p>5 rows × 50 columns</p>\n",
       "</div>"
      ],
      "text/plain": [
       "       gbifid                            datasetkey   occurrenceid  kingdom   \n",
       "0  3956314347  14d5676a-2c54-4f94-9023-1e8dcd822aa0  q-10050789731  Plantae  \\\n",
       "1  3952045610  14d5676a-2c54-4f94-9023-1e8dcd822aa0  q-10103707122  Plantae   \n",
       "2  3999022620  14d5676a-2c54-4f94-9023-1e8dcd822aa0  q-10593121245  Plantae   \n",
       "3  3951723097  14d5676a-2c54-4f94-9023-1e8dcd822aa0  q-10067365606  Plantae   \n",
       "4  3952394627  14d5676a-2c54-4f94-9023-1e8dcd822aa0  q-10536959012  Plantae   \n",
       "\n",
       "         phylum          class        order          family        genus   \n",
       "0  Tracheophyta  Magnoliopsida     Lamiales  Plantaginaceae   Cymbalaria  \\\n",
       "1  Tracheophyta  Magnoliopsida   Sapindales   Anacardiaceae     Pistacia   \n",
       "2  Tracheophyta     Liliopsida  Asparagales     Orchidaceae   Anacamptis   \n",
       "3  Tracheophyta  Magnoliopsida  Boraginales    Boraginaceae  Cynoglossum   \n",
       "4  Tracheophyta  Magnoliopsida     Lamiales   Orobanchaceae     Lathraea   \n",
       "\n",
       "                  species  ...  identifiedby dateidentified    license   \n",
       "0      Cymbalaria muralis  ...           NaN            NaT  CC_BY_4_0  \\\n",
       "1      Pistacia lentiscus  ...           NaN            NaT  CC_BY_4_0   \n",
       "2  Anacamptis pyramidalis  ...           NaN            NaT  CC_BY_4_0   \n",
       "3    Cynoglossum creticum  ...           NaN            NaT  CC_BY_4_0   \n",
       "4      Lathraea squamaria  ...           NaN            NaT  CC_BY_4_0   \n",
       "\n",
       "  rightsholder recordedby typestatus  establishmentmeans   \n",
       "0          NaN        NaN        NaN                 NaN  \\\n",
       "1          NaN        NaN        NaN                 NaN   \n",
       "2          NaN        NaN        NaN                 NaN   \n",
       "3          NaN        NaN        NaN                 NaN   \n",
       "4          NaN        NaN        NaN                 NaN   \n",
       "\n",
       "            lastinterpreted mediatype   \n",
       "0  2023-02-08T17:06:19.959Z       NaN  \\\n",
       "1  2023-02-08T17:30:41.400Z       NaN   \n",
       "2  2023-02-08T17:39:19.787Z       NaN   \n",
       "3  2023-02-08T17:29:23.909Z       NaN   \n",
       "4  2023-02-08T17:38:06.790Z       NaN   \n",
       "\n",
       "                                               issue  \n",
       "0  COORDINATE_ROUNDED;COUNTRY_DERIVED_FROM_COORDI...  \n",
       "1  COORDINATE_ROUNDED;COUNTRY_DERIVED_FROM_COORDI...  \n",
       "2  COUNTRY_DERIVED_FROM_COORDINATES;CONTINENT_DER...  \n",
       "3  COORDINATE_ROUNDED;COUNTRY_DERIVED_FROM_COORDI...  \n",
       "4  COORDINATE_ROUNDED;COUNTRY_DERIVED_FROM_COORDI...  \n",
       "\n",
       "[5 rows x 50 columns]"
      ]
     },
     "execution_count": 24,
     "metadata": {},
     "output_type": "execute_result"
    }
   ],
   "source": [
    "def standardize_columns(df):\n",
    "    '''\n",
    "This functions replaces the names of the columns by the lower case version,\n",
    "blank spaces for underscores '_' and drops the column \"Unnamed: 0\" with index values\n",
    "input: data frame\n",
    "    '''\n",
    "    df.columns = df.columns.str.lower().str.replace(' ', '_')\n",
    "    return df.drop(['unnamed:_0'], axis=1) # I had to change this part because in this version of the csv file there is no \"unnamed: 0\" column (before: return df.drop(['unnamed:_0'], axis=1))\n",
    "\n",
    "def clean_columns (df):\n",
    "    df = standardize_columns(df)\n",
    "    df['eventdate'] = df['eventdate'].apply(lambda x: x + '.00' if x.find(\".\") == -1 else x)\n",
    "    df['eventdate'] = pd.to_datetime(df['eventdate'], errors='coerce')\n",
    "    #df['effective_month'] = df['effective_to_date'].dt.month \n",
    "    df['dateidentified'] = pd.to_datetime(df['dateidentified'], errors='coerce')\n",
    "    return df\n",
    "        \n",
    "plant_copy = clean_columns(plant)\n",
    "plant_copy.head()"
   ]
  },
  {
   "cell_type": "markdown",
   "metadata": {},
   "source": [
    "### Remove columns with no data\n",
    "Columns to drop: mediaType, establishmentMeans, stateProvince, occurrenceStatus, taxonRank, infraspecificEpithet, locality, coordinatePrecision, depth, depthAccuracy, institutionCode, collectionCode, catalogNumber, recordNumber, \n",
    "identifiedBy, dateIdentified, rightsHolder, recordedBy, typeStatus "
   ]
  },
  {
   "cell_type": "code",
   "execution_count": 25,
   "metadata": {},
   "outputs": [
    {
     "data": {
      "text/html": [
       "<div>\n",
       "<style scoped>\n",
       "    .dataframe tbody tr th:only-of-type {\n",
       "        vertical-align: middle;\n",
       "    }\n",
       "\n",
       "    .dataframe tbody tr th {\n",
       "        vertical-align: top;\n",
       "    }\n",
       "\n",
       "    .dataframe thead th {\n",
       "        text-align: right;\n",
       "    }\n",
       "</style>\n",
       "<table border=\"1\" class=\"dataframe\">\n",
       "  <thead>\n",
       "    <tr style=\"text-align: right;\">\n",
       "      <th></th>\n",
       "      <th>gbifid</th>\n",
       "      <th>datasetkey</th>\n",
       "      <th>occurrenceid</th>\n",
       "      <th>kingdom</th>\n",
       "      <th>phylum</th>\n",
       "      <th>class</th>\n",
       "      <th>order</th>\n",
       "      <th>family</th>\n",
       "      <th>genus</th>\n",
       "      <th>species</th>\n",
       "      <th>...</th>\n",
       "      <th>eventdate</th>\n",
       "      <th>day</th>\n",
       "      <th>month</th>\n",
       "      <th>year</th>\n",
       "      <th>taxonkey</th>\n",
       "      <th>specieskey</th>\n",
       "      <th>basisofrecord</th>\n",
       "      <th>license</th>\n",
       "      <th>lastinterpreted</th>\n",
       "      <th>issue</th>\n",
       "    </tr>\n",
       "  </thead>\n",
       "  <tbody>\n",
       "    <tr>\n",
       "      <th>0</th>\n",
       "      <td>3956314347</td>\n",
       "      <td>14d5676a-2c54-4f94-9023-1e8dcd822aa0</td>\n",
       "      <td>q-10050789731</td>\n",
       "      <td>Plantae</td>\n",
       "      <td>Tracheophyta</td>\n",
       "      <td>Magnoliopsida</td>\n",
       "      <td>Lamiales</td>\n",
       "      <td>Plantaginaceae</td>\n",
       "      <td>Cymbalaria</td>\n",
       "      <td>Cymbalaria muralis</td>\n",
       "      <td>...</td>\n",
       "      <td>2016-05-28 11:32:01.482</td>\n",
       "      <td>28</td>\n",
       "      <td>5</td>\n",
       "      <td>2016</td>\n",
       "      <td>8200663</td>\n",
       "      <td>8200663.0</td>\n",
       "      <td>HUMAN_OBSERVATION</td>\n",
       "      <td>CC_BY_4_0</td>\n",
       "      <td>2023-02-08T17:06:19.959Z</td>\n",
       "      <td>COORDINATE_ROUNDED;COUNTRY_DERIVED_FROM_COORDI...</td>\n",
       "    </tr>\n",
       "    <tr>\n",
       "      <th>1</th>\n",
       "      <td>3952045610</td>\n",
       "      <td>14d5676a-2c54-4f94-9023-1e8dcd822aa0</td>\n",
       "      <td>q-10103707122</td>\n",
       "      <td>Plantae</td>\n",
       "      <td>Tracheophyta</td>\n",
       "      <td>Magnoliopsida</td>\n",
       "      <td>Sapindales</td>\n",
       "      <td>Anacardiaceae</td>\n",
       "      <td>Pistacia</td>\n",
       "      <td>Pistacia lentiscus</td>\n",
       "      <td>...</td>\n",
       "      <td>2019-08-18 12:02:28.413</td>\n",
       "      <td>18</td>\n",
       "      <td>8</td>\n",
       "      <td>2019</td>\n",
       "      <td>3190583</td>\n",
       "      <td>3190583.0</td>\n",
       "      <td>HUMAN_OBSERVATION</td>\n",
       "      <td>CC_BY_4_0</td>\n",
       "      <td>2023-02-08T17:30:41.400Z</td>\n",
       "      <td>COORDINATE_ROUNDED;COUNTRY_DERIVED_FROM_COORDI...</td>\n",
       "    </tr>\n",
       "    <tr>\n",
       "      <th>2</th>\n",
       "      <td>3999022620</td>\n",
       "      <td>14d5676a-2c54-4f94-9023-1e8dcd822aa0</td>\n",
       "      <td>q-10593121245</td>\n",
       "      <td>Plantae</td>\n",
       "      <td>Tracheophyta</td>\n",
       "      <td>Liliopsida</td>\n",
       "      <td>Asparagales</td>\n",
       "      <td>Orchidaceae</td>\n",
       "      <td>Anacamptis</td>\n",
       "      <td>Anacamptis pyramidalis</td>\n",
       "      <td>...</td>\n",
       "      <td>2022-05-20 21:10:09.158</td>\n",
       "      <td>20</td>\n",
       "      <td>5</td>\n",
       "      <td>2022</td>\n",
       "      <td>2808330</td>\n",
       "      <td>2808330.0</td>\n",
       "      <td>HUMAN_OBSERVATION</td>\n",
       "      <td>CC_BY_4_0</td>\n",
       "      <td>2023-02-08T17:39:19.787Z</td>\n",
       "      <td>COUNTRY_DERIVED_FROM_COORDINATES;CONTINENT_DER...</td>\n",
       "    </tr>\n",
       "    <tr>\n",
       "      <th>3</th>\n",
       "      <td>3951723097</td>\n",
       "      <td>14d5676a-2c54-4f94-9023-1e8dcd822aa0</td>\n",
       "      <td>q-10067365606</td>\n",
       "      <td>Plantae</td>\n",
       "      <td>Tracheophyta</td>\n",
       "      <td>Magnoliopsida</td>\n",
       "      <td>Boraginales</td>\n",
       "      <td>Boraginaceae</td>\n",
       "      <td>Cynoglossum</td>\n",
       "      <td>Cynoglossum creticum</td>\n",
       "      <td>...</td>\n",
       "      <td>2019-04-14 10:50:38.537</td>\n",
       "      <td>14</td>\n",
       "      <td>4</td>\n",
       "      <td>2019</td>\n",
       "      <td>4064467</td>\n",
       "      <td>4064467.0</td>\n",
       "      <td>HUMAN_OBSERVATION</td>\n",
       "      <td>CC_BY_4_0</td>\n",
       "      <td>2023-02-08T17:29:23.909Z</td>\n",
       "      <td>COORDINATE_ROUNDED;COUNTRY_DERIVED_FROM_COORDI...</td>\n",
       "    </tr>\n",
       "    <tr>\n",
       "      <th>4</th>\n",
       "      <td>3952394627</td>\n",
       "      <td>14d5676a-2c54-4f94-9023-1e8dcd822aa0</td>\n",
       "      <td>q-10536959012</td>\n",
       "      <td>Plantae</td>\n",
       "      <td>Tracheophyta</td>\n",
       "      <td>Magnoliopsida</td>\n",
       "      <td>Lamiales</td>\n",
       "      <td>Orobanchaceae</td>\n",
       "      <td>Lathraea</td>\n",
       "      <td>Lathraea squamaria</td>\n",
       "      <td>...</td>\n",
       "      <td>2022-03-14 14:36:23.989</td>\n",
       "      <td>14</td>\n",
       "      <td>3</td>\n",
       "      <td>2022</td>\n",
       "      <td>3738478</td>\n",
       "      <td>3738478.0</td>\n",
       "      <td>HUMAN_OBSERVATION</td>\n",
       "      <td>CC_BY_4_0</td>\n",
       "      <td>2023-02-08T17:38:06.790Z</td>\n",
       "      <td>COORDINATE_ROUNDED;COUNTRY_DERIVED_FROM_COORDI...</td>\n",
       "    </tr>\n",
       "  </tbody>\n",
       "</table>\n",
       "<p>5 rows × 32 columns</p>\n",
       "</div>"
      ],
      "text/plain": [
       "       gbifid                            datasetkey   occurrenceid  kingdom   \n",
       "0  3956314347  14d5676a-2c54-4f94-9023-1e8dcd822aa0  q-10050789731  Plantae  \\\n",
       "1  3952045610  14d5676a-2c54-4f94-9023-1e8dcd822aa0  q-10103707122  Plantae   \n",
       "2  3999022620  14d5676a-2c54-4f94-9023-1e8dcd822aa0  q-10593121245  Plantae   \n",
       "3  3951723097  14d5676a-2c54-4f94-9023-1e8dcd822aa0  q-10067365606  Plantae   \n",
       "4  3952394627  14d5676a-2c54-4f94-9023-1e8dcd822aa0  q-10536959012  Plantae   \n",
       "\n",
       "         phylum          class        order          family        genus   \n",
       "0  Tracheophyta  Magnoliopsida     Lamiales  Plantaginaceae   Cymbalaria  \\\n",
       "1  Tracheophyta  Magnoliopsida   Sapindales   Anacardiaceae     Pistacia   \n",
       "2  Tracheophyta     Liliopsida  Asparagales     Orchidaceae   Anacamptis   \n",
       "3  Tracheophyta  Magnoliopsida  Boraginales    Boraginaceae  Cynoglossum   \n",
       "4  Tracheophyta  Magnoliopsida     Lamiales   Orobanchaceae     Lathraea   \n",
       "\n",
       "                  species  ...               eventdate day month  year   \n",
       "0      Cymbalaria muralis  ... 2016-05-28 11:32:01.482  28     5  2016  \\\n",
       "1      Pistacia lentiscus  ... 2019-08-18 12:02:28.413  18     8  2019   \n",
       "2  Anacamptis pyramidalis  ... 2022-05-20 21:10:09.158  20     5  2022   \n",
       "3    Cynoglossum creticum  ... 2019-04-14 10:50:38.537  14     4  2019   \n",
       "4      Lathraea squamaria  ... 2022-03-14 14:36:23.989  14     3  2022   \n",
       "\n",
       "  taxonkey  specieskey      basisofrecord    license   \n",
       "0  8200663   8200663.0  HUMAN_OBSERVATION  CC_BY_4_0  \\\n",
       "1  3190583   3190583.0  HUMAN_OBSERVATION  CC_BY_4_0   \n",
       "2  2808330   2808330.0  HUMAN_OBSERVATION  CC_BY_4_0   \n",
       "3  4064467   4064467.0  HUMAN_OBSERVATION  CC_BY_4_0   \n",
       "4  3738478   3738478.0  HUMAN_OBSERVATION  CC_BY_4_0   \n",
       "\n",
       "            lastinterpreted                                              issue  \n",
       "0  2023-02-08T17:06:19.959Z  COORDINATE_ROUNDED;COUNTRY_DERIVED_FROM_COORDI...  \n",
       "1  2023-02-08T17:30:41.400Z  COORDINATE_ROUNDED;COUNTRY_DERIVED_FROM_COORDI...  \n",
       "2  2023-02-08T17:39:19.787Z  COUNTRY_DERIVED_FROM_COORDINATES;CONTINENT_DER...  \n",
       "3  2023-02-08T17:29:23.909Z  COORDINATE_ROUNDED;COUNTRY_DERIVED_FROM_COORDI...  \n",
       "4  2023-02-08T17:38:06.790Z  COORDINATE_ROUNDED;COUNTRY_DERIVED_FROM_COORDI...  \n",
       "\n",
       "[5 rows x 32 columns]"
      ]
     },
     "execution_count": 25,
     "metadata": {},
     "output_type": "execute_result"
    }
   ],
   "source": [
    "plant_copy.drop(['mediatype', 'establishmentmeans', 'stateprovince', 'taxonrank', 'infraspecificepithet', \n",
    "             'locality', 'coordinateprecision', 'depth', 'depthaccuracy', 'institutioncode', 'collectioncode', \n",
    "             'catalognumber', 'recordnumber', 'identifiedby', 'dateidentified', 'rightsholder', 'recordedby', \n",
    "             'typestatus'], axis=1, inplace=True)\n",
    "plant_copy.head()"
   ]
  },
  {
   "cell_type": "code",
   "execution_count": 26,
   "metadata": {},
   "outputs": [
    {
     "data": {
      "text/plain": [
       "gbifid                              0.000000\n",
       "datasetkey                          0.000000\n",
       "occurrenceid                        0.000000\n",
       "kingdom                             0.000000\n",
       "phylum                              0.000000\n",
       "class                               0.000000\n",
       "order                               0.000000\n",
       "family                              0.000000\n",
       "genus                               0.000027\n",
       "species                             0.000027\n",
       "scientificname                      0.000000\n",
       "verbatimscientificname              0.000000\n",
       "verbatimscientificnameauthorship    0.000000\n",
       "countrycode                         0.000027\n",
       "occurrencestatus                    0.000000\n",
       "individualcount                     0.000000\n",
       "publishingorgkey                    0.000000\n",
       "decimallatitude                     0.000000\n",
       "decimallongitude                    0.000000\n",
       "coordinateuncertaintyinmeters       0.288507\n",
       "elevation                           0.180520\n",
       "elevationaccuracy                   0.180520\n",
       "eventdate                           0.000000\n",
       "day                                 0.000000\n",
       "month                               0.000000\n",
       "year                                0.000000\n",
       "taxonkey                            0.000000\n",
       "specieskey                          0.000027\n",
       "basisofrecord                       0.000000\n",
       "license                             0.000000\n",
       "lastinterpreted                     0.000000\n",
       "issue                               0.000000\n",
       "dtype: float64"
      ]
     },
     "execution_count": 26,
     "metadata": {},
     "output_type": "execute_result"
    }
   ],
   "source": [
    "plant_copy.isnull().sum()/len(plant_copy)"
   ]
  },
  {
   "cell_type": "markdown",
   "metadata": {},
   "source": [
    "Explore specific columns and decided to remove them or not beased on their information and the aim of the project:\n",
    "- basisofrecord: contains just one value for all entries (HUMAN_OBSERVATION)\n",
    "- ocurrencestatus: contains just one value for all entries (PRESENT)\n",
    "- kingdom: one value ('Plantae')\n",
    "- phylum: one value ('Tracheophyta')\n",
    "- datasetkey: one value ('14d5676a-2c54-4f94-9023-1e8dcd822aa0')\n",
    "- elevation: not relevant for analysis\n",
    "- elevationaccuracy: not relevant\n",
    "- coordinate uncertainty in meters: not relevant\n",
    "- specieskey"
   ]
  },
  {
   "cell_type": "code",
   "execution_count": 27,
   "metadata": {},
   "outputs": [
    {
     "data": {
      "text/plain": [
       "array(['PRESENT'], dtype=object)"
      ]
     },
     "metadata": {},
     "output_type": "display_data"
    },
    {
     "data": {
      "text/plain": [
       "array(['HUMAN_OBSERVATION'], dtype=object)"
      ]
     },
     "metadata": {},
     "output_type": "display_data"
    },
    {
     "data": {
      "text/plain": [
       "array(['Plantae'], dtype=object)"
      ]
     },
     "metadata": {},
     "output_type": "display_data"
    },
    {
     "data": {
      "text/plain": [
       "array(['Tracheophyta'], dtype=object)"
      ]
     },
     "metadata": {},
     "output_type": "display_data"
    },
    {
     "data": {
      "text/plain": [
       "array(['14d5676a-2c54-4f94-9023-1e8dcd822aa0'], dtype=object)"
      ]
     },
     "metadata": {},
     "output_type": "display_data"
    },
    {
     "data": {
      "text/plain": [
       "array([1], dtype=int64)"
      ]
     },
     "metadata": {},
     "output_type": "display_data"
    }
   ],
   "source": [
    "display(plant_copy['occurrencestatus'].unique())\n",
    "display(plant_copy['basisofrecord'].unique())\n",
    "display(plant_copy['kingdom'].unique())\n",
    "display(plant_copy['phylum'].unique())\n",
    "display(plant_copy['datasetkey'].unique())\n",
    "display(plant_copy['individualcount'].unique())\n"
   ]
  },
  {
   "cell_type": "code",
   "execution_count": 28,
   "metadata": {},
   "outputs": [
    {
     "data": {
      "text/plain": [
       "0"
      ]
     },
     "metadata": {},
     "output_type": "display_data"
    },
    {
     "data": {
      "text/plain": [
       "0"
      ]
     },
     "metadata": {},
     "output_type": "display_data"
    }
   ],
   "source": [
    "display(plant_copy['occurrenceid'].duplicated().sum())\n",
    "display(plant_copy['gbifid'].duplicated().sum())\n",
    "# both columns contain unique identifiers, we can safely remove one"
   ]
  },
  {
   "cell_type": "markdown",
   "metadata": {},
   "source": [
    "Drop the columns because they don't bring relevant information for the analysis of the dataset"
   ]
  },
  {
   "cell_type": "code",
   "execution_count": 29,
   "metadata": {},
   "outputs": [
    {
     "data": {
      "text/plain": [
       "Index(['occurrenceid', 'class', 'order', 'family', 'genus', 'species',\n",
       "       'scientificname', 'countrycode', 'decimallatitude', 'decimallongitude',\n",
       "       'eventdate', 'day', 'month', 'year'],\n",
       "      dtype='object')"
      ]
     },
     "execution_count": 29,
     "metadata": {},
     "output_type": "execute_result"
    }
   ],
   "source": [
    "plant_copy.drop(['gbifid', 'occurrencestatus', 'basisofrecord', 'coordinateuncertaintyinmeters',\n",
    "                 'elevation', 'elevationaccuracy', 'specieskey', 'datasetkey', 'kingdom', 'phylum',\n",
    "                 'verbatimscientificname', 'verbatimscientificnameauthorship', 'individualcount',\n",
    "                 'publishingorgkey', 'taxonkey', 'license', 'lastinterpreted', 'issue'], axis = 1, inplace = True)\n",
    "plant_copy.columns"
   ]
  },
  {
   "cell_type": "code",
   "execution_count": 30,
   "metadata": {},
   "outputs": [
    {
     "data": {
      "text/plain": [
       "occurrenceid        0.000000\n",
       "class               0.000000\n",
       "order               0.000000\n",
       "family              0.000000\n",
       "genus               0.000027\n",
       "species             0.000027\n",
       "scientificname      0.000000\n",
       "countrycode         0.000027\n",
       "decimallatitude     0.000000\n",
       "decimallongitude    0.000000\n",
       "eventdate           0.000000\n",
       "day                 0.000000\n",
       "month               0.000000\n",
       "year                0.000000\n",
       "dtype: float64"
      ]
     },
     "execution_count": 30,
     "metadata": {},
     "output_type": "execute_result"
    }
   ],
   "source": [
    "plant_copy.isnull().sum()/len(plant_copy)"
   ]
  },
  {
   "cell_type": "markdown",
   "metadata": {},
   "source": [
    "Remaining missing values:\n",
    "- genus and species: might be the case that it was not possible to identify to genus or species level -> replace missing values for 'unknown'\n",
    "- countrycode: replace for 'U' = unknown"
   ]
  },
  {
   "cell_type": "code",
   "execution_count": 31,
   "metadata": {},
   "outputs": [],
   "source": [
    "plant_copy['genus'].fillna('unknown', inplace=True)\n",
    "plant_copy['species'].fillna('unknown', inplace=True)"
   ]
  },
  {
   "cell_type": "code",
   "execution_count": 32,
   "metadata": {},
   "outputs": [
    {
     "data": {
      "text/plain": [
       "['ES',\n",
       " 'FR',\n",
       " 'DE',\n",
       " 'RU',\n",
       " 'US',\n",
       " 'GB',\n",
       " 'IT',\n",
       " 'AT',\n",
       " 'NL',\n",
       " 'LU',\n",
       " 'AU',\n",
       " 'GR',\n",
       " 'PL',\n",
       " 'CZ',\n",
       " 'CH',\n",
       " 'BE',\n",
       " 'ME',\n",
       " 'PE',\n",
       " 'BR',\n",
       " 'HU',\n",
       " 'LT',\n",
       " 'DK',\n",
       " 'TR',\n",
       " 'SE',\n",
       " 'RS',\n",
       " 'GP',\n",
       " 'SI',\n",
       " 'UA',\n",
       " 'MA',\n",
       " 'IE',\n",
       " 'FI',\n",
       " 'CA',\n",
       " 'PT',\n",
       " 'IL',\n",
       " 'SK',\n",
       " 'LV',\n",
       " 'MX',\n",
       " 'SG',\n",
       " 'BO',\n",
       " 'IM',\n",
       " 'IN',\n",
       " 'RO',\n",
       " 'BG',\n",
       " 'UY',\n",
       " 'HR',\n",
       " 'PH',\n",
       " 'ID',\n",
       " 'TW',\n",
       " 'NC',\n",
       " 'TH',\n",
       " 'PK',\n",
       " 'DZ',\n",
       " 'AR',\n",
       " 'RE',\n",
       " 'CR',\n",
       " 'NP',\n",
       " 'KG',\n",
       " 'NO',\n",
       " 'EE',\n",
       " 'CO',\n",
       " 'JP',\n",
       " 'NZ',\n",
       " 'VN',\n",
       " 'MQ',\n",
       " 'BL',\n",
       " 'IR',\n",
       " 'SM',\n",
       " 'JE',\n",
       " 'GE',\n",
       " 'BY',\n",
       " 'CL',\n",
       " 'SN',\n",
       " 'CY',\n",
       " 'TM',\n",
       " 'RW',\n",
       " 'AD',\n",
       " 'MT',\n",
       " 'GG',\n",
       " 'BM',\n",
       " 'VE',\n",
       " 'CN',\n",
       " 'CM',\n",
       " 'MD',\n",
       " 'IS',\n",
       " 'UG',\n",
       " 'MZ',\n",
       " 'BD',\n",
       " 'ZA',\n",
       " 'GT',\n",
       " 'KM',\n",
       " 'DO',\n",
       " 'GD',\n",
       " 'TT',\n",
       " 'PR',\n",
       " 'VU',\n",
       " 'PY',\n",
       " 'BA',\n",
       " 'SV',\n",
       " 'AL',\n",
       " 'EC',\n",
       " 'LI',\n",
       " nan,\n",
       " 'IQ',\n",
       " 'NG',\n",
       " 'SA',\n",
       " 'SC',\n",
       " 'GI',\n",
       " 'TZ',\n",
       " 'HT',\n",
       " 'AX',\n",
       " 'BT',\n",
       " 'GF',\n",
       " 'ZM',\n",
       " 'AZ',\n",
       " 'AM',\n",
       " 'EG',\n",
       " 'PF',\n",
       " 'UZ',\n",
       " 'ML',\n",
       " 'CU',\n",
       " 'KR',\n",
       " 'KE',\n",
       " 'XK',\n",
       " 'LC',\n",
       " 'MK',\n",
       " 'VI',\n",
       " 'CW',\n",
       " 'HN',\n",
       " 'HK',\n",
       " 'MV',\n",
       " 'GA',\n",
       " 'MU',\n",
       " 'SY',\n",
       " 'MY',\n",
       " 'CD',\n",
       " 'LK',\n",
       " 'TN',\n",
       " 'KZ',\n",
       " 'LR',\n",
       " 'LY',\n",
       " 'PA',\n",
       " 'MC',\n",
       " 'MF',\n",
       " 'BF',\n",
       " 'AE',\n",
       " 'JO',\n",
       " 'BB',\n",
       " 'TG',\n",
       " 'LB',\n",
       " 'BJ',\n",
       " 'CI',\n",
       " 'LA',\n",
       " 'SR',\n",
       " 'NI',\n",
       " 'JM',\n",
       " 'PS',\n",
       " 'WF',\n",
       " 'BH',\n",
       " 'PM',\n",
       " 'OM',\n",
       " 'YE',\n",
       " 'DM',\n",
       " 'CV',\n",
       " 'MM',\n",
       " 'MW',\n",
       " 'BS',\n",
       " 'AO',\n",
       " 'GN',\n",
       " 'FO',\n",
       " 'ET',\n",
       " 'GY',\n",
       " 'MR',\n",
       " 'BZ',\n",
       " 'GH',\n",
       " 'SL',\n",
       " 'MG',\n",
       " 'TD',\n",
       " 'AG',\n",
       " 'CK',\n",
       " 'MN',\n",
       " 'VG',\n",
       " 'KH',\n",
       " 'DJ',\n",
       " 'AF',\n",
       " 'BQ',\n",
       " 'YT',\n",
       " 'KW']"
      ]
     },
     "execution_count": 32,
     "metadata": {},
     "output_type": "execute_result"
    }
   ],
   "source": [
    "# here I want to see all the possible unique values so I can replace the missing ones for 'U'. \n",
    "# But first I want to check that no country has 'U' as code.\n",
    "# countrycodes.sort() and sorted() return error: '<' not supported between instances of 'float' and 'str'\n",
    "# There are only strings and missing values.\n",
    "# Alternative chosen: fillna('unknown')\n",
    "countrycodes= plant_copy['countrycode'].unique()\n",
    "countrycodes = list(countrycodes)\n",
    "#countrycodes.sort() \n",
    "#countrycodes = sorted(countrycodes, key=lambda x: (x is None, x))\n",
    "countrycodes"
   ]
  },
  {
   "cell_type": "code",
   "execution_count": 33,
   "metadata": {
    "tags": []
   },
   "outputs": [],
   "source": [
    "plant_copy['countrycode'].fillna('unknown', inplace=True)"
   ]
  },
  {
   "cell_type": "code",
   "execution_count": 34,
   "metadata": {
    "tags": []
   },
   "outputs": [
    {
     "data": {
      "text/plain": [
       "occurrenceid        0.0\n",
       "class               0.0\n",
       "order               0.0\n",
       "family              0.0\n",
       "genus               0.0\n",
       "species             0.0\n",
       "scientificname      0.0\n",
       "countrycode         0.0\n",
       "decimallatitude     0.0\n",
       "decimallongitude    0.0\n",
       "eventdate           0.0\n",
       "day                 0.0\n",
       "month               0.0\n",
       "year                0.0\n",
       "dtype: float64"
      ]
     },
     "execution_count": 34,
     "metadata": {},
     "output_type": "execute_result"
    }
   ],
   "source": [
    "plant_copy.isnull().sum()/len(plant_copy)"
   ]
  },
  {
   "cell_type": "markdown",
   "metadata": {},
   "source": [
    "## Save cleaned file to csv"
   ]
  },
  {
   "cell_type": "code",
   "execution_count": 35,
   "metadata": {},
   "outputs": [],
   "source": [
    "from pathlib import Path\n",
    "file_path = Path('../Data/clean/plantanet_clean.csv')\n",
    "plant_copy.to_csv(file_path, sep='\\t', index=False)"
   ]
  },
  {
   "cell_type": "markdown",
   "metadata": {},
   "source": [
    "# Internet usage and GDP dataset"
   ]
  },
  {
   "cell_type": "markdown",
   "metadata": {},
   "source": [
    "Variable Name & Description of Indicator:\n",
    "- country: Unique Identifier\n",
    "- incomeperperson: Gross Domestic Product per capita in constant 2000 US$. The inflation but not the differences in the cost of living between countries has been taken into account.\n",
    "- internetuserate: Internet users (per 100 people). Internet users are people with access to the worldwide network.\n",
    "- urbanrate: Urban population (% of total) Urban population refers to people living in urban areas as defined by national statistical offices (calculated using World Bank population estimates and urban ratios from the United Nations World Urbanization Prospects)\n",
    "\n",
    "More information is available at [Gapminder](www.gapminder.org)\n"
   ]
  },
  {
   "cell_type": "code",
   "execution_count": 36,
   "metadata": {},
   "outputs": [
    {
     "data": {
      "text/plain": [
       "(211, 4)"
      ]
     },
     "metadata": {},
     "output_type": "display_data"
    },
    {
     "data": {
      "text/html": [
       "<div>\n",
       "<style scoped>\n",
       "    .dataframe tbody tr th:only-of-type {\n",
       "        vertical-align: middle;\n",
       "    }\n",
       "\n",
       "    .dataframe tbody tr th {\n",
       "        vertical-align: top;\n",
       "    }\n",
       "\n",
       "    .dataframe thead th {\n",
       "        text-align: right;\n",
       "    }\n",
       "</style>\n",
       "<table border=\"1\" class=\"dataframe\">\n",
       "  <thead>\n",
       "    <tr style=\"text-align: right;\">\n",
       "      <th></th>\n",
       "      <th>country</th>\n",
       "      <th>incomeperperson</th>\n",
       "      <th>internetuserate</th>\n",
       "      <th>urbanrate</th>\n",
       "    </tr>\n",
       "  </thead>\n",
       "  <tbody>\n",
       "    <tr>\n",
       "      <th>0</th>\n",
       "      <td>Afghanistan</td>\n",
       "      <td>NaN</td>\n",
       "      <td>3.654122</td>\n",
       "      <td>24.04</td>\n",
       "    </tr>\n",
       "    <tr>\n",
       "      <th>1</th>\n",
       "      <td>Albania</td>\n",
       "      <td>1914.996551</td>\n",
       "      <td>44.989947</td>\n",
       "      <td>46.72</td>\n",
       "    </tr>\n",
       "    <tr>\n",
       "      <th>2</th>\n",
       "      <td>Algeria</td>\n",
       "      <td>2231.993335</td>\n",
       "      <td>12.500073</td>\n",
       "      <td>65.22</td>\n",
       "    </tr>\n",
       "    <tr>\n",
       "      <th>3</th>\n",
       "      <td>Andorra</td>\n",
       "      <td>21943.339900</td>\n",
       "      <td>81.000000</td>\n",
       "      <td>88.92</td>\n",
       "    </tr>\n",
       "    <tr>\n",
       "      <th>4</th>\n",
       "      <td>Angola</td>\n",
       "      <td>1381.004268</td>\n",
       "      <td>9.999954</td>\n",
       "      <td>56.70</td>\n",
       "    </tr>\n",
       "  </tbody>\n",
       "</table>\n",
       "</div>"
      ],
      "text/plain": [
       "       country  incomeperperson  internetuserate  urbanrate\n",
       "0  Afghanistan              NaN         3.654122      24.04\n",
       "1      Albania      1914.996551        44.989947      46.72\n",
       "2      Algeria      2231.993335        12.500073      65.22\n",
       "3      Andorra     21943.339900        81.000000      88.92\n",
       "4       Angola      1381.004268         9.999954      56.70"
      ]
     },
     "execution_count": 36,
     "metadata": {},
     "output_type": "execute_result"
    }
   ],
   "source": [
    "internet = pd.read_csv('../Data/raw/gapminder_internet_edit.csv', sep=';')\n",
    "display(internet.shape)\n",
    "internet.head()"
   ]
  },
  {
   "cell_type": "markdown",
   "metadata": {},
   "source": [
    "## Explore data"
   ]
  },
  {
   "cell_type": "code",
   "execution_count": 37,
   "metadata": {},
   "outputs": [
    {
     "data": {
      "text/plain": [
       "country             object\n",
       "incomeperperson    float64\n",
       "internetuserate    float64\n",
       "urbanrate          float64\n",
       "dtype: object"
      ]
     },
     "execution_count": 37,
     "metadata": {},
     "output_type": "execute_result"
    }
   ],
   "source": [
    "internet.dtypes"
   ]
  },
  {
   "cell_type": "code",
   "execution_count": 38,
   "metadata": {},
   "outputs": [
    {
     "data": {
      "text/plain": [
       "country            0.000000\n",
       "incomeperperson    0.099526\n",
       "internetuserate    0.090047\n",
       "urbanrate          0.042654\n",
       "dtype: float64"
      ]
     },
     "execution_count": 38,
     "metadata": {},
     "output_type": "execute_result"
    }
   ],
   "source": [
    "internet.isnull().sum()/len(internet) # proportion of missing values"
   ]
  },
  {
   "cell_type": "code",
   "execution_count": 39,
   "metadata": {},
   "outputs": [
    {
     "name": "stdout",
     "output_type": "stream",
     "text": [
      "                   country  incomeperperson  internetuserate  urbanrate\n",
      "0              Afghanistan              NaN         3.654122      24.04\n",
      "8                    Aruba              NaN        41.800889      46.78\n",
      "34          Cayman Islands              NaN        66.000000     100.00\n",
      "43            Cook Islands              NaN              NaN        NaN\n",
      "61           Faroe Islands              NaN        75.200000      41.42\n",
      "65        French Polynesia              NaN        48.957328      51.64\n",
      "71               Gibraltar              NaN        65.000000        NaN\n",
      "75              Guadeloupe              NaN              NaN        NaN\n",
      "76                    Guam              NaN              NaN      93.16\n",
      "99         Korea Dem. Rep.              NaN              NaN      62.68\n",
      "101                 Kuwait              NaN        38.260234      98.36\n",
      "121             Martinique              NaN              NaN        NaN\n",
      "132                Myanmar              NaN              NaN      32.58\n",
      "134                  Nauru              NaN              NaN        NaN\n",
      "137          New Caledonia              NaN              NaN      64.78\n",
      "142                   Niue              NaN              NaN        NaN\n",
      "156                Reunion              NaN              NaN        NaN\n",
      "165  Sao Tome and Principe              NaN        18.795114      60.56\n",
      "175                Somalia              NaN              NaN      36.52\n",
      "185                 Taiwan              NaN              NaN        NaN\n",
      "207              Palestine              NaN        36.422772      71.90\n"
     ]
    }
   ],
   "source": [
    "print(internet[internet['incomeperperson'].isnull()]) # rows with missing values in column 'incomeperperson'"
   ]
  },
  {
   "cell_type": "markdown",
   "metadata": {},
   "source": [
    "In order to merge this dataframe with the plants one, we need another dataframe to act as a bridge.\n",
    "- Internet: country info is stored by name\n",
    "- Plants: country infor is stored by coountry code"
   ]
  },
  {
   "cell_type": "markdown",
   "metadata": {},
   "source": [
    "# Country codes"
   ]
  },
  {
   "cell_type": "code",
   "execution_count": 40,
   "metadata": {
    "tags": []
   },
   "outputs": [
    {
     "data": {
      "text/plain": [
       "(250, 2)"
      ]
     },
     "metadata": {},
     "output_type": "display_data"
    },
    {
     "data": {
      "text/html": [
       "<div>\n",
       "<style scoped>\n",
       "    .dataframe tbody tr th:only-of-type {\n",
       "        vertical-align: middle;\n",
       "    }\n",
       "\n",
       "    .dataframe tbody tr th {\n",
       "        vertical-align: top;\n",
       "    }\n",
       "\n",
       "    .dataframe thead th {\n",
       "        text-align: right;\n",
       "    }\n",
       "</style>\n",
       "<table border=\"1\" class=\"dataframe\">\n",
       "  <thead>\n",
       "    <tr style=\"text-align: right;\">\n",
       "      <th></th>\n",
       "      <th>Name</th>\n",
       "      <th>Code</th>\n",
       "    </tr>\n",
       "  </thead>\n",
       "  <tbody>\n",
       "    <tr>\n",
       "      <th>0</th>\n",
       "      <td>Afghanistan</td>\n",
       "      <td>AF</td>\n",
       "    </tr>\n",
       "    <tr>\n",
       "      <th>1</th>\n",
       "      <td>Aland Islands (Finland)</td>\n",
       "      <td>AX</td>\n",
       "    </tr>\n",
       "    <tr>\n",
       "      <th>2</th>\n",
       "      <td>Albania</td>\n",
       "      <td>AL</td>\n",
       "    </tr>\n",
       "    <tr>\n",
       "      <th>3</th>\n",
       "      <td>Algeria</td>\n",
       "      <td>DZ</td>\n",
       "    </tr>\n",
       "    <tr>\n",
       "      <th>4</th>\n",
       "      <td>American Samoa</td>\n",
       "      <td>AS</td>\n",
       "    </tr>\n",
       "  </tbody>\n",
       "</table>\n",
       "</div>"
      ],
      "text/plain": [
       "                      Name Code\n",
       "0              Afghanistan   AF\n",
       "1  Aland Islands (Finland)   AX\n",
       "2                  Albania   AL\n",
       "3                  Algeria   DZ\n",
       "4           American Samoa   AS"
      ]
     },
     "execution_count": 40,
     "metadata": {},
     "output_type": "execute_result"
    }
   ],
   "source": [
    "codes = pd.read_csv('../Data/raw/country_list_edit.csv', sep=';') # this dataframe will work as bridge between plants and internet dataframes\n",
    "display(codes.shape)\n",
    "codes.head()"
   ]
  },
  {
   "cell_type": "markdown",
   "metadata": {},
   "source": [
    "## Explore data and clean"
   ]
  },
  {
   "cell_type": "code",
   "execution_count": 41,
   "metadata": {
    "tags": []
   },
   "outputs": [
    {
     "data": {
      "text/plain": [
       "Index(['country', 'countrycode'], dtype='object')"
      ]
     },
     "execution_count": 41,
     "metadata": {},
     "output_type": "execute_result"
    }
   ],
   "source": [
    "# rename the columns using a dictionary\n",
    "codes.rename(columns=({'Name': 'country', 'Code': 'countrycode'}), inplace=True)\n",
    "codes.columns"
   ]
  },
  {
   "cell_type": "code",
   "execution_count": 42,
   "metadata": {
    "tags": []
   },
   "outputs": [
    {
     "data": {
      "text/html": [
       "<div>\n",
       "<style scoped>\n",
       "    .dataframe tbody tr th:only-of-type {\n",
       "        vertical-align: middle;\n",
       "    }\n",
       "\n",
       "    .dataframe tbody tr th {\n",
       "        vertical-align: top;\n",
       "    }\n",
       "\n",
       "    .dataframe thead th {\n",
       "        text-align: right;\n",
       "    }\n",
       "</style>\n",
       "<table border=\"1\" class=\"dataframe\">\n",
       "  <thead>\n",
       "    <tr style=\"text-align: right;\">\n",
       "      <th></th>\n",
       "      <th>country</th>\n",
       "      <th>countrycode</th>\n",
       "    </tr>\n",
       "  </thead>\n",
       "  <tbody>\n",
       "    <tr>\n",
       "      <th>0</th>\n",
       "      <td>Afghanistan</td>\n",
       "      <td>AF</td>\n",
       "    </tr>\n",
       "    <tr>\n",
       "      <th>1</th>\n",
       "      <td>Aland Islands (Finland)</td>\n",
       "      <td>AX</td>\n",
       "    </tr>\n",
       "    <tr>\n",
       "      <th>2</th>\n",
       "      <td>Albania</td>\n",
       "      <td>AL</td>\n",
       "    </tr>\n",
       "    <tr>\n",
       "      <th>3</th>\n",
       "      <td>Algeria</td>\n",
       "      <td>DZ</td>\n",
       "    </tr>\n",
       "    <tr>\n",
       "      <th>4</th>\n",
       "      <td>American Samoa</td>\n",
       "      <td>AS</td>\n",
       "    </tr>\n",
       "  </tbody>\n",
       "</table>\n",
       "</div>"
      ],
      "text/plain": [
       "                   country countrycode\n",
       "0              Afghanistan          AF\n",
       "1  Aland Islands (Finland)          AX\n",
       "2                  Albania          AL\n",
       "3                  Algeria          DZ\n",
       "4           American Samoa          AS"
      ]
     },
     "execution_count": 42,
     "metadata": {},
     "output_type": "execute_result"
    }
   ],
   "source": [
    "codes.head()"
   ]
  },
  {
   "cell_type": "markdown",
   "metadata": {},
   "source": [
    "## Missing values"
   ]
  },
  {
   "cell_type": "code",
   "execution_count": 43,
   "metadata": {
    "tags": []
   },
   "outputs": [
    {
     "data": {
      "text/plain": [
       "country        0.000\n",
       "countrycode    0.004\n",
       "dtype: float64"
      ]
     },
     "execution_count": 43,
     "metadata": {},
     "output_type": "execute_result"
    }
   ],
   "source": [
    "# check if there are missing values\n",
    "codes.isnull().sum()/len(codes)"
   ]
  },
  {
   "cell_type": "code",
   "execution_count": 44,
   "metadata": {
    "tags": []
   },
   "outputs": [
    {
     "name": "stdout",
     "output_type": "stream",
     "text": [
      "     country countrycode\n",
      "154  Namibia         NaN\n"
     ]
    }
   ],
   "source": [
    "# check which countries do not have a code\n",
    "print(codes[codes['countrycode'].isnull()])"
   ]
  },
  {
   "cell_type": "code",
   "execution_count": 45,
   "metadata": {
    "tags": []
   },
   "outputs": [],
   "source": [
    "# Namibia's country code is NA - replace missing value for 'NA'\n",
    "codes['countrycode'].fillna('NA', inplace=True)"
   ]
  },
  {
   "cell_type": "code",
   "execution_count": 46,
   "metadata": {
    "tags": []
   },
   "outputs": [
    {
     "data": {
      "text/plain": [
       "country        0.0\n",
       "countrycode    0.0\n",
       "dtype: float64"
      ]
     },
     "execution_count": 46,
     "metadata": {},
     "output_type": "execute_result"
    }
   ],
   "source": [
    "codes.isnull().sum()/len(codes)"
   ]
  },
  {
   "cell_type": "code",
   "execution_count": 47,
   "metadata": {
    "tags": []
   },
   "outputs": [
    {
     "data": {
      "text/plain": [
       "0"
      ]
     },
     "execution_count": 47,
     "metadata": {},
     "output_type": "execute_result"
    }
   ],
   "source": [
    "# verify that there are no duplicated values\n",
    "codes['countrycode'].duplicated().sum()"
   ]
  },
  {
   "cell_type": "code",
   "execution_count": 48,
   "metadata": {
    "tags": []
   },
   "outputs": [
    {
     "data": {
      "text/plain": [
       "countrycode\n",
       "True     149996\n",
       "False         4\n",
       "Name: count, dtype: int64"
      ]
     },
     "execution_count": 48,
     "metadata": {},
     "output_type": "execute_result"
    }
   ],
   "source": [
    "# compare the common columns in the two dataframes before the merge\n",
    "cc = plant_copy[\"countrycode\"].isin(codes[\"countrycode\"])\n",
    "type(cc)\n",
    "cc.value_counts()"
   ]
  },
  {
   "cell_type": "code",
   "execution_count": 49,
   "metadata": {
    "tags": []
   },
   "outputs": [
    {
     "data": {
      "text/plain": [
       "countrycode\n",
       "True     186\n",
       "False     64\n",
       "Name: count, dtype: int64"
      ]
     },
     "execution_count": 49,
     "metadata": {},
     "output_type": "execute_result"
    }
   ],
   "source": [
    "dd = codes[\"countrycode\"].isin(plant_copy[\"countrycode\"])\n",
    "type(dd)\n",
    "dd.value_counts()"
   ]
  },
  {
   "cell_type": "markdown",
   "metadata": {},
   "source": [
    "# Merge dataframes: plant_copy and codes\n",
    "- Codes dataframe will serve as bridge to connect to the internet dataframe"
   ]
  },
  {
   "cell_type": "code",
   "execution_count": 50,
   "metadata": {
    "tags": []
   },
   "outputs": [
    {
     "data": {
      "text/html": [
       "<div>\n",
       "<style scoped>\n",
       "    .dataframe tbody tr th:only-of-type {\n",
       "        vertical-align: middle;\n",
       "    }\n",
       "\n",
       "    .dataframe tbody tr th {\n",
       "        vertical-align: top;\n",
       "    }\n",
       "\n",
       "    .dataframe thead th {\n",
       "        text-align: right;\n",
       "    }\n",
       "</style>\n",
       "<table border=\"1\" class=\"dataframe\">\n",
       "  <thead>\n",
       "    <tr style=\"text-align: right;\">\n",
       "      <th></th>\n",
       "      <th>occurrenceid</th>\n",
       "      <th>class</th>\n",
       "      <th>order</th>\n",
       "      <th>family</th>\n",
       "      <th>genus</th>\n",
       "      <th>species</th>\n",
       "      <th>scientificname</th>\n",
       "      <th>countrycode</th>\n",
       "      <th>decimallatitude</th>\n",
       "      <th>decimallongitude</th>\n",
       "      <th>eventdate</th>\n",
       "      <th>day</th>\n",
       "      <th>month</th>\n",
       "      <th>year</th>\n",
       "      <th>country</th>\n",
       "    </tr>\n",
       "  </thead>\n",
       "  <tbody>\n",
       "    <tr>\n",
       "      <th>0</th>\n",
       "      <td>q-10050789731</td>\n",
       "      <td>Magnoliopsida</td>\n",
       "      <td>Lamiales</td>\n",
       "      <td>Plantaginaceae</td>\n",
       "      <td>Cymbalaria</td>\n",
       "      <td>Cymbalaria muralis</td>\n",
       "      <td>Cymbalaria muralis P.Gaertn., B.Mey. &amp; Scherb.</td>\n",
       "      <td>ES</td>\n",
       "      <td>39.737365</td>\n",
       "      <td>-0.828874</td>\n",
       "      <td>2016-05-28 11:32:01.482</td>\n",
       "      <td>28</td>\n",
       "      <td>5</td>\n",
       "      <td>2016</td>\n",
       "      <td>Spain</td>\n",
       "    </tr>\n",
       "    <tr>\n",
       "      <th>1</th>\n",
       "      <td>q-10103707122</td>\n",
       "      <td>Magnoliopsida</td>\n",
       "      <td>Sapindales</td>\n",
       "      <td>Anacardiaceae</td>\n",
       "      <td>Pistacia</td>\n",
       "      <td>Pistacia lentiscus</td>\n",
       "      <td>Pistacia lentiscus L.</td>\n",
       "      <td>FR</td>\n",
       "      <td>43.068620</td>\n",
       "      <td>5.817762</td>\n",
       "      <td>2019-08-18 12:02:28.413</td>\n",
       "      <td>18</td>\n",
       "      <td>8</td>\n",
       "      <td>2019</td>\n",
       "      <td>France</td>\n",
       "    </tr>\n",
       "    <tr>\n",
       "      <th>2</th>\n",
       "      <td>q-10593121245</td>\n",
       "      <td>Liliopsida</td>\n",
       "      <td>Asparagales</td>\n",
       "      <td>Orchidaceae</td>\n",
       "      <td>Anacamptis</td>\n",
       "      <td>Anacamptis pyramidalis</td>\n",
       "      <td>Anacamptis pyramidalis (L.) Rich.</td>\n",
       "      <td>FR</td>\n",
       "      <td>45.852500</td>\n",
       "      <td>-0.155000</td>\n",
       "      <td>2022-05-20 21:10:09.158</td>\n",
       "      <td>20</td>\n",
       "      <td>5</td>\n",
       "      <td>2022</td>\n",
       "      <td>France</td>\n",
       "    </tr>\n",
       "    <tr>\n",
       "      <th>3</th>\n",
       "      <td>q-10067365606</td>\n",
       "      <td>Magnoliopsida</td>\n",
       "      <td>Boraginales</td>\n",
       "      <td>Boraginaceae</td>\n",
       "      <td>Cynoglossum</td>\n",
       "      <td>Cynoglossum creticum</td>\n",
       "      <td>Cynoglossum creticum Mill.</td>\n",
       "      <td>FR</td>\n",
       "      <td>43.151389</td>\n",
       "      <td>5.736667</td>\n",
       "      <td>2019-04-14 10:50:38.537</td>\n",
       "      <td>14</td>\n",
       "      <td>4</td>\n",
       "      <td>2019</td>\n",
       "      <td>France</td>\n",
       "    </tr>\n",
       "    <tr>\n",
       "      <th>4</th>\n",
       "      <td>q-10536959012</td>\n",
       "      <td>Magnoliopsida</td>\n",
       "      <td>Lamiales</td>\n",
       "      <td>Orobanchaceae</td>\n",
       "      <td>Lathraea</td>\n",
       "      <td>Lathraea squamaria</td>\n",
       "      <td>Lathraea squamaria L.</td>\n",
       "      <td>DE</td>\n",
       "      <td>48.079440</td>\n",
       "      <td>7.587583</td>\n",
       "      <td>2022-03-14 14:36:23.989</td>\n",
       "      <td>14</td>\n",
       "      <td>3</td>\n",
       "      <td>2022</td>\n",
       "      <td>Germany</td>\n",
       "    </tr>\n",
       "  </tbody>\n",
       "</table>\n",
       "</div>"
      ],
      "text/plain": [
       "    occurrenceid          class        order          family        genus   \n",
       "0  q-10050789731  Magnoliopsida     Lamiales  Plantaginaceae   Cymbalaria  \\\n",
       "1  q-10103707122  Magnoliopsida   Sapindales   Anacardiaceae     Pistacia   \n",
       "2  q-10593121245     Liliopsida  Asparagales     Orchidaceae   Anacamptis   \n",
       "3  q-10067365606  Magnoliopsida  Boraginales    Boraginaceae  Cynoglossum   \n",
       "4  q-10536959012  Magnoliopsida     Lamiales   Orobanchaceae     Lathraea   \n",
       "\n",
       "                  species                                  scientificname   \n",
       "0      Cymbalaria muralis  Cymbalaria muralis P.Gaertn., B.Mey. & Scherb.  \\\n",
       "1      Pistacia lentiscus                           Pistacia lentiscus L.   \n",
       "2  Anacamptis pyramidalis               Anacamptis pyramidalis (L.) Rich.   \n",
       "3    Cynoglossum creticum                      Cynoglossum creticum Mill.   \n",
       "4      Lathraea squamaria                           Lathraea squamaria L.   \n",
       "\n",
       "  countrycode  decimallatitude  decimallongitude               eventdate  day   \n",
       "0          ES        39.737365         -0.828874 2016-05-28 11:32:01.482   28  \\\n",
       "1          FR        43.068620          5.817762 2019-08-18 12:02:28.413   18   \n",
       "2          FR        45.852500         -0.155000 2022-05-20 21:10:09.158   20   \n",
       "3          FR        43.151389          5.736667 2019-04-14 10:50:38.537   14   \n",
       "4          DE        48.079440          7.587583 2022-03-14 14:36:23.989   14   \n",
       "\n",
       "   month  year  country  \n",
       "0      5  2016    Spain  \n",
       "1      8  2019   France  \n",
       "2      5  2022   France  \n",
       "3      4  2019   France  \n",
       "4      3  2022  Germany  "
      ]
     },
     "execution_count": 50,
     "metadata": {},
     "output_type": "execute_result"
    }
   ],
   "source": [
    "plant_codes = pd.merge(plant_copy, codes, how='left', on='countrycode')\n",
    "plant_codes.head()"
   ]
  },
  {
   "cell_type": "code",
   "execution_count": 51,
   "metadata": {
    "tags": []
   },
   "outputs": [
    {
     "data": {
      "text/plain": [
       "occurrenceid        0.000000\n",
       "class               0.000000\n",
       "order               0.000000\n",
       "family              0.000000\n",
       "genus               0.000000\n",
       "species             0.000000\n",
       "scientificname      0.000000\n",
       "countrycode         0.000000\n",
       "decimallatitude     0.000000\n",
       "decimallongitude    0.000000\n",
       "eventdate           0.000000\n",
       "day                 0.000000\n",
       "month               0.000000\n",
       "year                0.000000\n",
       "country             0.000027\n",
       "dtype: float64"
      ]
     },
     "execution_count": 51,
     "metadata": {},
     "output_type": "execute_result"
    }
   ],
   "source": [
    "plant_codes.isnull().sum()/len(plant_codes)"
   ]
  },
  {
   "cell_type": "code",
   "execution_count": 52,
   "metadata": {
    "tags": []
   },
   "outputs": [
    {
     "data": {
      "text/plain": [
       "[Index([7001, 38054, 56843, 143602], dtype='int64')]"
      ]
     },
     "execution_count": 52,
     "metadata": {},
     "output_type": "execute_result"
    }
   ],
   "source": [
    "indexes = [plant_codes[plant_codes['country'].isnull()].index]\n",
    "type(indexes)\n",
    "indexes"
   ]
  },
  {
   "cell_type": "code",
   "execution_count": 53,
   "metadata": {
    "tags": []
   },
   "outputs": [
    {
     "name": "stdout",
     "output_type": "stream",
     "text": [
      "The value of the row index Index([7001, 38054, 56843, 143602], dtype='int64') is 7001      unknown\n",
      "38054     unknown\n",
      "56843     unknown\n",
      "143602    unknown\n",
      "Name: countrycode, dtype: object\n"
     ]
    }
   ],
   "source": [
    "# iterate through the indexes where there's a missing value in countries (usefull when there are many) and returns the country corresponding country code\n",
    "for i in indexes:\n",
    "    print(f\"The value of the row index {i} is {plant_codes.loc[i, 'countrycode']}\")"
   ]
  },
  {
   "cell_type": "markdown",
   "metadata": {},
   "source": [
    "Based on this information, the missing values in country will be filled with 'unknown'"
   ]
  },
  {
   "cell_type": "code",
   "execution_count": 54,
   "metadata": {
    "tags": []
   },
   "outputs": [
    {
     "data": {
      "text/plain": [
       "occurrenceid        0.0\n",
       "class               0.0\n",
       "order               0.0\n",
       "family              0.0\n",
       "genus               0.0\n",
       "species             0.0\n",
       "scientificname      0.0\n",
       "countrycode         0.0\n",
       "decimallatitude     0.0\n",
       "decimallongitude    0.0\n",
       "eventdate           0.0\n",
       "day                 0.0\n",
       "month               0.0\n",
       "year                0.0\n",
       "country             0.0\n",
       "dtype: float64"
      ]
     },
     "execution_count": 54,
     "metadata": {},
     "output_type": "execute_result"
    }
   ],
   "source": [
    "plant_codes.fillna('unknown', inplace=True) # fill missing values with 'unknown'\n",
    "plant_codes.isnull().sum()/len(plant_codes) # double-check that there are no more missing values"
   ]
  },
  {
   "cell_type": "markdown",
   "metadata": {},
   "source": [
    "## Merge dataframes: plant_codes and internet"
   ]
  },
  {
   "cell_type": "code",
   "execution_count": 55,
   "metadata": {
    "tags": []
   },
   "outputs": [
    {
     "data": {
      "text/html": [
       "<div>\n",
       "<style scoped>\n",
       "    .dataframe tbody tr th:only-of-type {\n",
       "        vertical-align: middle;\n",
       "    }\n",
       "\n",
       "    .dataframe tbody tr th {\n",
       "        vertical-align: top;\n",
       "    }\n",
       "\n",
       "    .dataframe thead th {\n",
       "        text-align: right;\n",
       "    }\n",
       "</style>\n",
       "<table border=\"1\" class=\"dataframe\">\n",
       "  <thead>\n",
       "    <tr style=\"text-align: right;\">\n",
       "      <th></th>\n",
       "      <th>occurrenceid</th>\n",
       "      <th>class</th>\n",
       "      <th>order</th>\n",
       "      <th>family</th>\n",
       "      <th>genus</th>\n",
       "      <th>species</th>\n",
       "      <th>scientificname</th>\n",
       "      <th>countrycode</th>\n",
       "      <th>decimallatitude</th>\n",
       "      <th>decimallongitude</th>\n",
       "      <th>eventdate</th>\n",
       "      <th>day</th>\n",
       "      <th>month</th>\n",
       "      <th>year</th>\n",
       "      <th>country</th>\n",
       "      <th>incomeperperson</th>\n",
       "      <th>internetuserate</th>\n",
       "      <th>urbanrate</th>\n",
       "    </tr>\n",
       "  </thead>\n",
       "  <tbody>\n",
       "    <tr>\n",
       "      <th>0</th>\n",
       "      <td>q-10050789731</td>\n",
       "      <td>Magnoliopsida</td>\n",
       "      <td>Lamiales</td>\n",
       "      <td>Plantaginaceae</td>\n",
       "      <td>Cymbalaria</td>\n",
       "      <td>Cymbalaria muralis</td>\n",
       "      <td>Cymbalaria muralis P.Gaertn., B.Mey. &amp; Scherb.</td>\n",
       "      <td>ES</td>\n",
       "      <td>39.737365</td>\n",
       "      <td>-0.828874</td>\n",
       "      <td>2016-05-28 11:32:01.482</td>\n",
       "      <td>28</td>\n",
       "      <td>5</td>\n",
       "      <td>2016</td>\n",
       "      <td>Spain</td>\n",
       "      <td>15461.75837</td>\n",
       "      <td>65.808554</td>\n",
       "      <td>77.12</td>\n",
       "    </tr>\n",
       "    <tr>\n",
       "      <th>1</th>\n",
       "      <td>q-10103707122</td>\n",
       "      <td>Magnoliopsida</td>\n",
       "      <td>Sapindales</td>\n",
       "      <td>Anacardiaceae</td>\n",
       "      <td>Pistacia</td>\n",
       "      <td>Pistacia lentiscus</td>\n",
       "      <td>Pistacia lentiscus L.</td>\n",
       "      <td>FR</td>\n",
       "      <td>43.068620</td>\n",
       "      <td>5.817762</td>\n",
       "      <td>2019-08-18 12:02:28.413</td>\n",
       "      <td>18</td>\n",
       "      <td>8</td>\n",
       "      <td>2019</td>\n",
       "      <td>France</td>\n",
       "      <td>22878.46657</td>\n",
       "      <td>77.498619</td>\n",
       "      <td>77.36</td>\n",
       "    </tr>\n",
       "    <tr>\n",
       "      <th>2</th>\n",
       "      <td>q-10593121245</td>\n",
       "      <td>Liliopsida</td>\n",
       "      <td>Asparagales</td>\n",
       "      <td>Orchidaceae</td>\n",
       "      <td>Anacamptis</td>\n",
       "      <td>Anacamptis pyramidalis</td>\n",
       "      <td>Anacamptis pyramidalis (L.) Rich.</td>\n",
       "      <td>FR</td>\n",
       "      <td>45.852500</td>\n",
       "      <td>-0.155000</td>\n",
       "      <td>2022-05-20 21:10:09.158</td>\n",
       "      <td>20</td>\n",
       "      <td>5</td>\n",
       "      <td>2022</td>\n",
       "      <td>France</td>\n",
       "      <td>22878.46657</td>\n",
       "      <td>77.498619</td>\n",
       "      <td>77.36</td>\n",
       "    </tr>\n",
       "    <tr>\n",
       "      <th>3</th>\n",
       "      <td>q-10067365606</td>\n",
       "      <td>Magnoliopsida</td>\n",
       "      <td>Boraginales</td>\n",
       "      <td>Boraginaceae</td>\n",
       "      <td>Cynoglossum</td>\n",
       "      <td>Cynoglossum creticum</td>\n",
       "      <td>Cynoglossum creticum Mill.</td>\n",
       "      <td>FR</td>\n",
       "      <td>43.151389</td>\n",
       "      <td>5.736667</td>\n",
       "      <td>2019-04-14 10:50:38.537</td>\n",
       "      <td>14</td>\n",
       "      <td>4</td>\n",
       "      <td>2019</td>\n",
       "      <td>France</td>\n",
       "      <td>22878.46657</td>\n",
       "      <td>77.498619</td>\n",
       "      <td>77.36</td>\n",
       "    </tr>\n",
       "    <tr>\n",
       "      <th>4</th>\n",
       "      <td>q-10536959012</td>\n",
       "      <td>Magnoliopsida</td>\n",
       "      <td>Lamiales</td>\n",
       "      <td>Orobanchaceae</td>\n",
       "      <td>Lathraea</td>\n",
       "      <td>Lathraea squamaria</td>\n",
       "      <td>Lathraea squamaria L.</td>\n",
       "      <td>DE</td>\n",
       "      <td>48.079440</td>\n",
       "      <td>7.587583</td>\n",
       "      <td>2022-03-14 14:36:23.989</td>\n",
       "      <td>14</td>\n",
       "      <td>3</td>\n",
       "      <td>2022</td>\n",
       "      <td>Germany</td>\n",
       "      <td>25306.18719</td>\n",
       "      <td>82.526898</td>\n",
       "      <td>73.64</td>\n",
       "    </tr>\n",
       "  </tbody>\n",
       "</table>\n",
       "</div>"
      ],
      "text/plain": [
       "    occurrenceid          class        order          family        genus   \n",
       "0  q-10050789731  Magnoliopsida     Lamiales  Plantaginaceae   Cymbalaria  \\\n",
       "1  q-10103707122  Magnoliopsida   Sapindales   Anacardiaceae     Pistacia   \n",
       "2  q-10593121245     Liliopsida  Asparagales     Orchidaceae   Anacamptis   \n",
       "3  q-10067365606  Magnoliopsida  Boraginales    Boraginaceae  Cynoglossum   \n",
       "4  q-10536959012  Magnoliopsida     Lamiales   Orobanchaceae     Lathraea   \n",
       "\n",
       "                  species                                  scientificname   \n",
       "0      Cymbalaria muralis  Cymbalaria muralis P.Gaertn., B.Mey. & Scherb.  \\\n",
       "1      Pistacia lentiscus                           Pistacia lentiscus L.   \n",
       "2  Anacamptis pyramidalis               Anacamptis pyramidalis (L.) Rich.   \n",
       "3    Cynoglossum creticum                      Cynoglossum creticum Mill.   \n",
       "4      Lathraea squamaria                           Lathraea squamaria L.   \n",
       "\n",
       "  countrycode  decimallatitude  decimallongitude               eventdate  day   \n",
       "0          ES        39.737365         -0.828874 2016-05-28 11:32:01.482   28  \\\n",
       "1          FR        43.068620          5.817762 2019-08-18 12:02:28.413   18   \n",
       "2          FR        45.852500         -0.155000 2022-05-20 21:10:09.158   20   \n",
       "3          FR        43.151389          5.736667 2019-04-14 10:50:38.537   14   \n",
       "4          DE        48.079440          7.587583 2022-03-14 14:36:23.989   14   \n",
       "\n",
       "   month  year  country  incomeperperson  internetuserate  urbanrate  \n",
       "0      5  2016    Spain      15461.75837        65.808554      77.12  \n",
       "1      8  2019   France      22878.46657        77.498619      77.36  \n",
       "2      5  2022   France      22878.46657        77.498619      77.36  \n",
       "3      4  2019   France      22878.46657        77.498619      77.36  \n",
       "4      3  2022  Germany      25306.18719        82.526898      73.64  "
      ]
     },
     "execution_count": 55,
     "metadata": {},
     "output_type": "execute_result"
    }
   ],
   "source": [
    "plant_internet = pd.merge(plant_codes, internet, how='left', on='country') \n",
    "plant_internet.head()"
   ]
  },
  {
   "cell_type": "markdown",
   "metadata": {},
   "source": [
    "# Final dataframe\n",
    "Contains information on:\n",
    "- Plant species (at different levels of identification).\n",
    "- Location and country were plant was identified using the app\n",
    "- Date of identification of the plant\n",
    "- GDP per country\n",
    "- Income per person per country\n",
    "- Internet user rate per country\n",
    "- Urban rate per country"
   ]
  },
  {
   "cell_type": "code",
   "execution_count": 56,
   "metadata": {
    "tags": []
   },
   "outputs": [
    {
     "data": {
      "text/plain": [
       "(150000, 18)"
      ]
     },
     "execution_count": 56,
     "metadata": {},
     "output_type": "execute_result"
    }
   ],
   "source": [
    "plant_internet.shape"
   ]
  },
  {
   "cell_type": "code",
   "execution_count": 57,
   "metadata": {
    "tags": []
   },
   "outputs": [
    {
     "data": {
      "text/plain": [
       "occurrenceid                object\n",
       "class                       object\n",
       "order                       object\n",
       "family                      object\n",
       "genus                       object\n",
       "species                     object\n",
       "scientificname              object\n",
       "countrycode                 object\n",
       "decimallatitude            float64\n",
       "decimallongitude           float64\n",
       "eventdate           datetime64[ns]\n",
       "day                          int64\n",
       "month                        int64\n",
       "year                         int64\n",
       "country                     object\n",
       "incomeperperson            float64\n",
       "internetuserate            float64\n",
       "urbanrate                  float64\n",
       "dtype: object"
      ]
     },
     "execution_count": 57,
     "metadata": {},
     "output_type": "execute_result"
    }
   ],
   "source": [
    "plant_internet.dtypes"
   ]
  },
  {
   "cell_type": "code",
   "execution_count": 58,
   "metadata": {
    "tags": []
   },
   "outputs": [
    {
     "data": {
      "text/plain": [
       "occurrenceid        0.000000\n",
       "class               0.000000\n",
       "order               0.000000\n",
       "family              0.000000\n",
       "genus               0.000000\n",
       "species             0.000000\n",
       "scientificname      0.000000\n",
       "countrycode         0.000000\n",
       "decimallatitude     0.000000\n",
       "decimallongitude    0.000000\n",
       "eventdate           0.000000\n",
       "day                 0.000000\n",
       "month               0.000000\n",
       "year                0.000000\n",
       "country             0.000000\n",
       "incomeperperson     0.004453\n",
       "internetuserate     0.004340\n",
       "urbanrate           0.004020\n",
       "dtype: float64"
      ]
     },
     "execution_count": 58,
     "metadata": {},
     "output_type": "execute_result"
    }
   ],
   "source": [
    "plant_internet.isnull().sum()/len(plant_internet)"
   ]
  },
  {
   "cell_type": "markdown",
   "metadata": {},
   "source": [
    "## Missing values\n",
    "- The missing information could be retrieved doing research online. Due to time constrains, the values will be replace by 0 to avoid the coulmn types to change to string, and later ignored during regression analysis to avoid bias.\n",
    "- Another option would be to drop those rows qith missing information since the datframe is so big. The problem would be that the countries with missing information are small ones that could be the most interesting for the analysis. At least, for the analysis for which there is data."
   ]
  },
  {
   "cell_type": "code",
   "execution_count": 56,
   "metadata": {},
   "outputs": [
    {
     "data": {
      "text/plain": [
       "{'Afghanistan',\n",
       " 'Aland Islands (Finland)',\n",
       " 'Bonaire',\n",
       " 'Cook Islands',\n",
       " 'Curacao',\n",
       " 'Faroe Islands',\n",
       " 'French Guiana',\n",
       " 'French Polynesia',\n",
       " 'Gibraltar',\n",
       " 'Guadeloupe',\n",
       " 'Guernsey',\n",
       " 'Isle of Man',\n",
       " 'Jersey',\n",
       " 'Kosovo',\n",
       " 'Kuwait',\n",
       " 'Martinique',\n",
       " 'Mayotte',\n",
       " 'Myanmar',\n",
       " 'New Caledonia',\n",
       " 'Palestine',\n",
       " 'Reunion',\n",
       " 'Saint Bartholemy',\n",
       " 'Saint Martin (French part)',\n",
       " 'Saint Pierre and Miquelon',\n",
       " 'Taiwan',\n",
       " 'Virgin Islands',\n",
       " 'Wallis and Futuna',\n",
       " 'unknown'}"
      ]
     },
     "execution_count": 56,
     "metadata": {},
     "output_type": "execute_result"
    }
   ],
   "source": [
    "# list of countris with no income information\n",
    "countries_missing_income = list(plant_internet['country'][plant_internet['incomeperperson'].isnull()])\n",
    "countries_missing_income\n",
    "set(countries_missing_income)"
   ]
  },
  {
   "cell_type": "markdown",
   "metadata": {},
   "source": [
    "### Save dataset WITH missing values to plot\n",
    "- In the plots, to be able to truly visualize the real outliers and not the artificially-filled zeros, it's better to keep it as NaN\n",
    "- Having another dataset with the NaN filled with zeros is the best alternative to avoid dropping those rows.\n"
   ]
  },
  {
   "cell_type": "code",
   "execution_count": 59,
   "metadata": {
    "tags": []
   },
   "outputs": [],
   "source": [
    "file_path = Path('../Data/clean/plantanet_internet_gdp_nan.csv')\n",
    "plant_internet.to_csv(file_path, sep=',', index=False)"
   ]
  },
  {
   "cell_type": "markdown",
   "metadata": {},
   "source": [
    "Fill missing values with zeros"
   ]
  },
  {
   "cell_type": "code",
   "execution_count": 60,
   "metadata": {
    "tags": []
   },
   "outputs": [
    {
     "data": {
      "text/plain": [
       "occurrenceid        0.0\n",
       "class               0.0\n",
       "order               0.0\n",
       "family              0.0\n",
       "genus               0.0\n",
       "species             0.0\n",
       "scientificname      0.0\n",
       "countrycode         0.0\n",
       "decimallatitude     0.0\n",
       "decimallongitude    0.0\n",
       "eventdate           0.0\n",
       "day                 0.0\n",
       "month               0.0\n",
       "year                0.0\n",
       "country             0.0\n",
       "incomeperperson     0.0\n",
       "internetuserate     0.0\n",
       "urbanrate           0.0\n",
       "dtype: float64"
      ]
     },
     "execution_count": 60,
     "metadata": {},
     "output_type": "execute_result"
    }
   ],
   "source": [
    "plant_internet['incomeperperson'].fillna(0, inplace=True) # fill missing values with zeros\n",
    "plant_internet['internetuserate'].fillna(0, inplace=True)\n",
    "plant_internet['urbanrate'].fillna(0, inplace=True)\n",
    "plant_internet.isnull().sum()/len(plant_internet)"
   ]
  },
  {
   "cell_type": "code",
   "execution_count": 61,
   "metadata": {
    "tags": []
   },
   "outputs": [
    {
     "data": {
      "text/html": [
       "<div>\n",
       "<style scoped>\n",
       "    .dataframe tbody tr th:only-of-type {\n",
       "        vertical-align: middle;\n",
       "    }\n",
       "\n",
       "    .dataframe tbody tr th {\n",
       "        vertical-align: top;\n",
       "    }\n",
       "\n",
       "    .dataframe thead th {\n",
       "        text-align: right;\n",
       "    }\n",
       "</style>\n",
       "<table border=\"1\" class=\"dataframe\">\n",
       "  <thead>\n",
       "    <tr style=\"text-align: right;\">\n",
       "      <th></th>\n",
       "      <th>occurrenceid</th>\n",
       "      <th>class</th>\n",
       "      <th>order</th>\n",
       "      <th>family</th>\n",
       "      <th>genus</th>\n",
       "      <th>species</th>\n",
       "      <th>scientificname</th>\n",
       "      <th>countrycode</th>\n",
       "      <th>decimallatitude</th>\n",
       "      <th>decimallongitude</th>\n",
       "      <th>eventdate</th>\n",
       "      <th>day</th>\n",
       "      <th>month</th>\n",
       "      <th>year</th>\n",
       "      <th>country</th>\n",
       "      <th>incomeperperson</th>\n",
       "      <th>internetuserate</th>\n",
       "      <th>urbanrate</th>\n",
       "    </tr>\n",
       "  </thead>\n",
       "  <tbody>\n",
       "    <tr>\n",
       "      <th>0</th>\n",
       "      <td>q-10050789731</td>\n",
       "      <td>Magnoliopsida</td>\n",
       "      <td>Lamiales</td>\n",
       "      <td>Plantaginaceae</td>\n",
       "      <td>Cymbalaria</td>\n",
       "      <td>Cymbalaria muralis</td>\n",
       "      <td>Cymbalaria muralis P.Gaertn., B.Mey. &amp; Scherb.</td>\n",
       "      <td>ES</td>\n",
       "      <td>39.737365</td>\n",
       "      <td>-0.828874</td>\n",
       "      <td>2016-05-28 11:32:01.482</td>\n",
       "      <td>28</td>\n",
       "      <td>5</td>\n",
       "      <td>2016</td>\n",
       "      <td>Spain</td>\n",
       "      <td>15461.75837</td>\n",
       "      <td>65.808554</td>\n",
       "      <td>77.12</td>\n",
       "    </tr>\n",
       "    <tr>\n",
       "      <th>1</th>\n",
       "      <td>q-10103707122</td>\n",
       "      <td>Magnoliopsida</td>\n",
       "      <td>Sapindales</td>\n",
       "      <td>Anacardiaceae</td>\n",
       "      <td>Pistacia</td>\n",
       "      <td>Pistacia lentiscus</td>\n",
       "      <td>Pistacia lentiscus L.</td>\n",
       "      <td>FR</td>\n",
       "      <td>43.068620</td>\n",
       "      <td>5.817762</td>\n",
       "      <td>2019-08-18 12:02:28.413</td>\n",
       "      <td>18</td>\n",
       "      <td>8</td>\n",
       "      <td>2019</td>\n",
       "      <td>France</td>\n",
       "      <td>22878.46657</td>\n",
       "      <td>77.498619</td>\n",
       "      <td>77.36</td>\n",
       "    </tr>\n",
       "    <tr>\n",
       "      <th>2</th>\n",
       "      <td>q-10593121245</td>\n",
       "      <td>Liliopsida</td>\n",
       "      <td>Asparagales</td>\n",
       "      <td>Orchidaceae</td>\n",
       "      <td>Anacamptis</td>\n",
       "      <td>Anacamptis pyramidalis</td>\n",
       "      <td>Anacamptis pyramidalis (L.) Rich.</td>\n",
       "      <td>FR</td>\n",
       "      <td>45.852500</td>\n",
       "      <td>-0.155000</td>\n",
       "      <td>2022-05-20 21:10:09.158</td>\n",
       "      <td>20</td>\n",
       "      <td>5</td>\n",
       "      <td>2022</td>\n",
       "      <td>France</td>\n",
       "      <td>22878.46657</td>\n",
       "      <td>77.498619</td>\n",
       "      <td>77.36</td>\n",
       "    </tr>\n",
       "    <tr>\n",
       "      <th>3</th>\n",
       "      <td>q-10067365606</td>\n",
       "      <td>Magnoliopsida</td>\n",
       "      <td>Boraginales</td>\n",
       "      <td>Boraginaceae</td>\n",
       "      <td>Cynoglossum</td>\n",
       "      <td>Cynoglossum creticum</td>\n",
       "      <td>Cynoglossum creticum Mill.</td>\n",
       "      <td>FR</td>\n",
       "      <td>43.151389</td>\n",
       "      <td>5.736667</td>\n",
       "      <td>2019-04-14 10:50:38.537</td>\n",
       "      <td>14</td>\n",
       "      <td>4</td>\n",
       "      <td>2019</td>\n",
       "      <td>France</td>\n",
       "      <td>22878.46657</td>\n",
       "      <td>77.498619</td>\n",
       "      <td>77.36</td>\n",
       "    </tr>\n",
       "    <tr>\n",
       "      <th>4</th>\n",
       "      <td>q-10536959012</td>\n",
       "      <td>Magnoliopsida</td>\n",
       "      <td>Lamiales</td>\n",
       "      <td>Orobanchaceae</td>\n",
       "      <td>Lathraea</td>\n",
       "      <td>Lathraea squamaria</td>\n",
       "      <td>Lathraea squamaria L.</td>\n",
       "      <td>DE</td>\n",
       "      <td>48.079440</td>\n",
       "      <td>7.587583</td>\n",
       "      <td>2022-03-14 14:36:23.989</td>\n",
       "      <td>14</td>\n",
       "      <td>3</td>\n",
       "      <td>2022</td>\n",
       "      <td>Germany</td>\n",
       "      <td>25306.18719</td>\n",
       "      <td>82.526898</td>\n",
       "      <td>73.64</td>\n",
       "    </tr>\n",
       "  </tbody>\n",
       "</table>\n",
       "</div>"
      ],
      "text/plain": [
       "    occurrenceid          class        order          family        genus   \n",
       "0  q-10050789731  Magnoliopsida     Lamiales  Plantaginaceae   Cymbalaria  \\\n",
       "1  q-10103707122  Magnoliopsida   Sapindales   Anacardiaceae     Pistacia   \n",
       "2  q-10593121245     Liliopsida  Asparagales     Orchidaceae   Anacamptis   \n",
       "3  q-10067365606  Magnoliopsida  Boraginales    Boraginaceae  Cynoglossum   \n",
       "4  q-10536959012  Magnoliopsida     Lamiales   Orobanchaceae     Lathraea   \n",
       "\n",
       "                  species                                  scientificname   \n",
       "0      Cymbalaria muralis  Cymbalaria muralis P.Gaertn., B.Mey. & Scherb.  \\\n",
       "1      Pistacia lentiscus                           Pistacia lentiscus L.   \n",
       "2  Anacamptis pyramidalis               Anacamptis pyramidalis (L.) Rich.   \n",
       "3    Cynoglossum creticum                      Cynoglossum creticum Mill.   \n",
       "4      Lathraea squamaria                           Lathraea squamaria L.   \n",
       "\n",
       "  countrycode  decimallatitude  decimallongitude               eventdate  day   \n",
       "0          ES        39.737365         -0.828874 2016-05-28 11:32:01.482   28  \\\n",
       "1          FR        43.068620          5.817762 2019-08-18 12:02:28.413   18   \n",
       "2          FR        45.852500         -0.155000 2022-05-20 21:10:09.158   20   \n",
       "3          FR        43.151389          5.736667 2019-04-14 10:50:38.537   14   \n",
       "4          DE        48.079440          7.587583 2022-03-14 14:36:23.989   14   \n",
       "\n",
       "   month  year  country  incomeperperson  internetuserate  urbanrate  \n",
       "0      5  2016    Spain      15461.75837        65.808554      77.12  \n",
       "1      8  2019   France      22878.46657        77.498619      77.36  \n",
       "2      5  2022   France      22878.46657        77.498619      77.36  \n",
       "3      4  2019   France      22878.46657        77.498619      77.36  \n",
       "4      3  2022  Germany      25306.18719        82.526898      73.64  "
      ]
     },
     "execution_count": 61,
     "metadata": {},
     "output_type": "execute_result"
    }
   ],
   "source": [
    "plant_internet.head()"
   ]
  },
  {
   "cell_type": "markdown",
   "metadata": {},
   "source": [
    "## Save final cleaned dataframe"
   ]
  },
  {
   "cell_type": "code",
   "execution_count": 111,
   "metadata": {},
   "outputs": [],
   "source": [
    "from pathlib import Path\n",
    "file_path = Path('../Data/clean/plantanet_internet_gdp.csv')\n",
    "plant_internet.to_csv(file_path, sep=',', index=False)"
   ]
  },
  {
   "cell_type": "code",
   "execution_count": 112,
   "metadata": {},
   "outputs": [
    {
     "data": {
      "text/plain": [
       "(150000, 18)"
      ]
     },
     "metadata": {},
     "output_type": "display_data"
    },
    {
     "data": {
      "text/plain": [
       "Index(['occurrenceid', 'class', 'order', 'family', 'genus', 'species',\n",
       "       'scientificname', 'countrycode', 'decimallatitude', 'decimallongitude',\n",
       "       'eventdate', 'day', 'month', 'year', 'country', 'incomeperperson',\n",
       "       'internetuserate', 'urbanrate'],\n",
       "      dtype='object')"
      ]
     },
     "metadata": {},
     "output_type": "display_data"
    },
    {
     "data": {
      "text/html": [
       "<div>\n",
       "<style scoped>\n",
       "    .dataframe tbody tr th:only-of-type {\n",
       "        vertical-align: middle;\n",
       "    }\n",
       "\n",
       "    .dataframe tbody tr th {\n",
       "        vertical-align: top;\n",
       "    }\n",
       "\n",
       "    .dataframe thead th {\n",
       "        text-align: right;\n",
       "    }\n",
       "</style>\n",
       "<table border=\"1\" class=\"dataframe\">\n",
       "  <thead>\n",
       "    <tr style=\"text-align: right;\">\n",
       "      <th></th>\n",
       "      <th>occurrenceid</th>\n",
       "      <th>class</th>\n",
       "      <th>order</th>\n",
       "      <th>family</th>\n",
       "      <th>genus</th>\n",
       "      <th>species</th>\n",
       "      <th>scientificname</th>\n",
       "      <th>countrycode</th>\n",
       "      <th>decimallatitude</th>\n",
       "      <th>decimallongitude</th>\n",
       "      <th>eventdate</th>\n",
       "      <th>day</th>\n",
       "      <th>month</th>\n",
       "      <th>year</th>\n",
       "      <th>country</th>\n",
       "      <th>incomeperperson</th>\n",
       "      <th>internetuserate</th>\n",
       "      <th>urbanrate</th>\n",
       "    </tr>\n",
       "  </thead>\n",
       "  <tbody>\n",
       "    <tr>\n",
       "      <th>0</th>\n",
       "      <td>q-10050789731</td>\n",
       "      <td>Magnoliopsida</td>\n",
       "      <td>Lamiales</td>\n",
       "      <td>Plantaginaceae</td>\n",
       "      <td>Cymbalaria</td>\n",
       "      <td>Cymbalaria muralis</td>\n",
       "      <td>Cymbalaria muralis P.Gaertn., B.Mey. &amp; Scherb.</td>\n",
       "      <td>ES</td>\n",
       "      <td>39.737365</td>\n",
       "      <td>-0.828874</td>\n",
       "      <td>2016-05-28 11:32:01.482</td>\n",
       "      <td>28</td>\n",
       "      <td>5</td>\n",
       "      <td>2016</td>\n",
       "      <td>Spain</td>\n",
       "      <td>15461.75837</td>\n",
       "      <td>65.808554</td>\n",
       "      <td>77.12</td>\n",
       "    </tr>\n",
       "    <tr>\n",
       "      <th>1</th>\n",
       "      <td>q-10103707122</td>\n",
       "      <td>Magnoliopsida</td>\n",
       "      <td>Sapindales</td>\n",
       "      <td>Anacardiaceae</td>\n",
       "      <td>Pistacia</td>\n",
       "      <td>Pistacia lentiscus</td>\n",
       "      <td>Pistacia lentiscus L.</td>\n",
       "      <td>FR</td>\n",
       "      <td>43.068620</td>\n",
       "      <td>5.817762</td>\n",
       "      <td>2019-08-18 12:02:28.413</td>\n",
       "      <td>18</td>\n",
       "      <td>8</td>\n",
       "      <td>2019</td>\n",
       "      <td>France</td>\n",
       "      <td>22878.46657</td>\n",
       "      <td>77.498619</td>\n",
       "      <td>77.36</td>\n",
       "    </tr>\n",
       "    <tr>\n",
       "      <th>2</th>\n",
       "      <td>q-10593121245</td>\n",
       "      <td>Liliopsida</td>\n",
       "      <td>Asparagales</td>\n",
       "      <td>Orchidaceae</td>\n",
       "      <td>Anacamptis</td>\n",
       "      <td>Anacamptis pyramidalis</td>\n",
       "      <td>Anacamptis pyramidalis (L.) Rich.</td>\n",
       "      <td>FR</td>\n",
       "      <td>45.852500</td>\n",
       "      <td>-0.155000</td>\n",
       "      <td>2022-05-20 21:10:09.158</td>\n",
       "      <td>20</td>\n",
       "      <td>5</td>\n",
       "      <td>2022</td>\n",
       "      <td>France</td>\n",
       "      <td>22878.46657</td>\n",
       "      <td>77.498619</td>\n",
       "      <td>77.36</td>\n",
       "    </tr>\n",
       "    <tr>\n",
       "      <th>3</th>\n",
       "      <td>q-10067365606</td>\n",
       "      <td>Magnoliopsida</td>\n",
       "      <td>Boraginales</td>\n",
       "      <td>Boraginaceae</td>\n",
       "      <td>Cynoglossum</td>\n",
       "      <td>Cynoglossum creticum</td>\n",
       "      <td>Cynoglossum creticum Mill.</td>\n",
       "      <td>FR</td>\n",
       "      <td>43.151389</td>\n",
       "      <td>5.736667</td>\n",
       "      <td>2019-04-14 10:50:38.537</td>\n",
       "      <td>14</td>\n",
       "      <td>4</td>\n",
       "      <td>2019</td>\n",
       "      <td>France</td>\n",
       "      <td>22878.46657</td>\n",
       "      <td>77.498619</td>\n",
       "      <td>77.36</td>\n",
       "    </tr>\n",
       "    <tr>\n",
       "      <th>4</th>\n",
       "      <td>q-10536959012</td>\n",
       "      <td>Magnoliopsida</td>\n",
       "      <td>Lamiales</td>\n",
       "      <td>Orobanchaceae</td>\n",
       "      <td>Lathraea</td>\n",
       "      <td>Lathraea squamaria</td>\n",
       "      <td>Lathraea squamaria L.</td>\n",
       "      <td>DE</td>\n",
       "      <td>48.079440</td>\n",
       "      <td>7.587583</td>\n",
       "      <td>2022-03-14 14:36:23.989</td>\n",
       "      <td>14</td>\n",
       "      <td>3</td>\n",
       "      <td>2022</td>\n",
       "      <td>Germany</td>\n",
       "      <td>25306.18719</td>\n",
       "      <td>82.526898</td>\n",
       "      <td>73.64</td>\n",
       "    </tr>\n",
       "  </tbody>\n",
       "</table>\n",
       "</div>"
      ],
      "text/plain": [
       "    occurrenceid          class        order          family        genus   \n",
       "0  q-10050789731  Magnoliopsida     Lamiales  Plantaginaceae   Cymbalaria  \\\n",
       "1  q-10103707122  Magnoliopsida   Sapindales   Anacardiaceae     Pistacia   \n",
       "2  q-10593121245     Liliopsida  Asparagales     Orchidaceae   Anacamptis   \n",
       "3  q-10067365606  Magnoliopsida  Boraginales    Boraginaceae  Cynoglossum   \n",
       "4  q-10536959012  Magnoliopsida     Lamiales   Orobanchaceae     Lathraea   \n",
       "\n",
       "                  species                                  scientificname   \n",
       "0      Cymbalaria muralis  Cymbalaria muralis P.Gaertn., B.Mey. & Scherb.  \\\n",
       "1      Pistacia lentiscus                           Pistacia lentiscus L.   \n",
       "2  Anacamptis pyramidalis               Anacamptis pyramidalis (L.) Rich.   \n",
       "3    Cynoglossum creticum                      Cynoglossum creticum Mill.   \n",
       "4      Lathraea squamaria                           Lathraea squamaria L.   \n",
       "\n",
       "  countrycode  decimallatitude  decimallongitude                eventdate   \n",
       "0          ES        39.737365         -0.828874  2016-05-28 11:32:01.482  \\\n",
       "1          FR        43.068620          5.817762  2019-08-18 12:02:28.413   \n",
       "2          FR        45.852500         -0.155000  2022-05-20 21:10:09.158   \n",
       "3          FR        43.151389          5.736667  2019-04-14 10:50:38.537   \n",
       "4          DE        48.079440          7.587583  2022-03-14 14:36:23.989   \n",
       "\n",
       "   day  month  year  country  incomeperperson  internetuserate  urbanrate  \n",
       "0   28      5  2016    Spain      15461.75837        65.808554      77.12  \n",
       "1   18      8  2019   France      22878.46657        77.498619      77.36  \n",
       "2   20      5  2022   France      22878.46657        77.498619      77.36  \n",
       "3   14      4  2019   France      22878.46657        77.498619      77.36  \n",
       "4   14      3  2022  Germany      25306.18719        82.526898      73.64  "
      ]
     },
     "execution_count": 112,
     "metadata": {},
     "output_type": "execute_result"
    }
   ],
   "source": [
    "plant_clean = pd.read_csv('../Data/clean/plantanet_internet_gdp.csv', sep=',')\n",
    "display(plant_clean.shape)\n",
    "display(plant_clean.columns)\n",
    "plant_clean.head()"
   ]
  }
 ],
 "metadata": {
  "kernelspec": {
   "display_name": "Python 3 (ipykernel)",
   "language": "python",
   "name": "python3"
  },
  "language_info": {
   "codemirror_mode": {
    "name": "ipython",
    "version": 3
   },
   "file_extension": ".py",
   "mimetype": "text/x-python",
   "name": "python",
   "nbconvert_exporter": "python",
   "pygments_lexer": "ipython3",
   "version": "3.9.13"
  }
 },
 "nbformat": 4,
 "nbformat_minor": 4
}
